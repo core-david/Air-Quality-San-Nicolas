{
  "nbformat": 4,
  "nbformat_minor": 0,
  "metadata": {
    "colab": {
      "provenance": []
    },
    "kernelspec": {
      "name": "python3",
      "display_name": "Python 3"
    },
    "language_info": {
      "name": "python"
    }
  },
  "cells": [
    {
      "cell_type": "markdown",
      "source": [
        "# Código para la Etapa 3"
      ],
      "metadata": {
        "id": "IYk_5QVACWNY"
      }
    },
    {
      "cell_type": "code",
      "execution_count": 1,
      "metadata": {
        "id": "QR-R9i9IQfa8"
      },
      "outputs": [],
      "source": [
        "import pandas as pd\n",
        "import numpy as np\n",
        "from datetime import datetime, timedelta"
      ]
    },
    {
      "cell_type": "markdown",
      "source": [
        "## Procesamiento de datos"
      ],
      "metadata": {
        "id": "y96zpjI-Cdvd"
      }
    },
    {
      "cell_type": "code",
      "source": [
        "# Para cargar un solo archivo CSV\n",
        "archivo_csv_1 = '/content/SanNico_Apodaca.csv'\n",
        "SanNico_Apodaca = pd.read_csv(archivo_csv_1)\n",
        "\n",
        "# Para cargar otro archivo CSV\n",
        "archivo_csv_3 = '/content/noreste2_Apodaca_filtrado.csv'\n",
        "Apodaca = pd.read_csv(archivo_csv_3)"
      ],
      "metadata": {
        "id": "mxr-j5jeZ3kT"
      },
      "execution_count": 2,
      "outputs": []
    },
    {
      "cell_type": "code",
      "source": [
        "# Eliminar registros con valores nulos en las columnas PM10 y PM2.5\n",
        "Apodaca = Apodaca.dropna(subset=['PM10', 'PM2.5'])"
      ],
      "metadata": {
        "id": "GSp9PHc9Z3ny"
      },
      "execution_count": 3,
      "outputs": []
    },
    {
      "cell_type": "code",
      "source": [
        "SanNico_Apodaca.info()"
      ],
      "metadata": {
        "colab": {
          "base_uri": "https://localhost:8080/"
        },
        "id": "3qhMOE0ZtP4b",
        "outputId": "1f29d9b9-948e-4aac-9704-10083a88a4e5"
      },
      "execution_count": 4,
      "outputs": [
        {
          "output_type": "stream",
          "name": "stdout",
          "text": [
            "<class 'pandas.core.frame.DataFrame'>\n",
            "RangeIndex: 1807 entries, 0 to 1806\n",
            "Data columns (total 23 columns):\n",
            " #   Column                Non-Null Count  Dtype  \n",
            "---  ------                --------------  -----  \n",
            " 0   date                  1807 non-null   object \n",
            " 1   CO                    1807 non-null   float64\n",
            " 2   NO                    1807 non-null   float64\n",
            " 3   NO2                   1807 non-null   float64\n",
            " 4   NOX                   1807 non-null   float64\n",
            " 5   O3                    1807 non-null   float64\n",
            " 6   PM10                  1807 non-null   float64\n",
            " 7   PM2.5                 1807 non-null   float64\n",
            " 8   PRS                   1807 non-null   float64\n",
            " 9   RAINF                 1807 non-null   float64\n",
            " 10  RH                    1807 non-null   float64\n",
            " 11  SO2                   1799 non-null   float64\n",
            " 12  SR                    1807 non-null   float64\n",
            " 13  TOUT                  1807 non-null   float64\n",
            " 14  WSR                   1807 non-null   float64\n",
            " 15  WDR                   1794 non-null   float64\n",
            " 16  PM10_Clasificacion    1807 non-null   object \n",
            " 17  PM2.5_Clasificacion   1807 non-null   object \n",
            " 18  O3_1hr_Clasificacion  1807 non-null   object \n",
            " 19  03_8hr_Clasificacion  1807 non-null   object \n",
            " 20  NO2_Clasificacion     1802 non-null   object \n",
            " 21  SO2_Clasificacion     1807 non-null   object \n",
            " 22  CO_Clasificacion      1807 non-null   object \n",
            "dtypes: float64(15), object(8)\n",
            "memory usage: 324.8+ KB\n"
          ]
        }
      ]
    },
    {
      "cell_type": "code",
      "source": [
        "Apodaca.info()"
      ],
      "metadata": {
        "colab": {
          "base_uri": "https://localhost:8080/"
        },
        "id": "sZAMOi0lsUCQ",
        "outputId": "e4d090b0-868f-40db-dd49-adcf89d3be08"
      },
      "execution_count": 5,
      "outputs": [
        {
          "output_type": "stream",
          "name": "stdout",
          "text": [
            "<class 'pandas.core.frame.DataFrame'>\n",
            "Int64Index: 284 entries, 0 to 288\n",
            "Data columns (total 23 columns):\n",
            " #   Column                Non-Null Count  Dtype  \n",
            "---  ------                --------------  -----  \n",
            " 0   date                  284 non-null    object \n",
            " 1   CO                    284 non-null    float64\n",
            " 2   NO                    265 non-null    float64\n",
            " 3   NO2                   265 non-null    float64\n",
            " 4   NOX                   265 non-null    float64\n",
            " 5   O3                    258 non-null    float64\n",
            " 6   PM10                  284 non-null    float64\n",
            " 7   PM2.5                 284 non-null    float64\n",
            " 8   PRS                   281 non-null    float64\n",
            " 9   RAINF                 284 non-null    float64\n",
            " 10  RH                    261 non-null    float64\n",
            " 11  SO2                   258 non-null    float64\n",
            " 12  SR                    272 non-null    float64\n",
            " 13  TOUT                  284 non-null    float64\n",
            " 14  WSR                   284 non-null    float64\n",
            " 15  WDR                   284 non-null    float64\n",
            " 16  PM10_Clasificacion    284 non-null    object \n",
            " 17  PM2.5_Clasificacion   284 non-null    object \n",
            " 18  O3_1hr_Clasificacion  258 non-null    object \n",
            " 19  O3_8hr_Clasificacion  258 non-null    object \n",
            " 20  NO2_Clasificacion     265 non-null    object \n",
            " 21  SO2_Clasificacion     258 non-null    object \n",
            " 22  CO_Clasificacion      284 non-null    object \n",
            "dtypes: float64(15), object(8)\n",
            "memory usage: 53.2+ KB\n"
          ]
        }
      ]
    },
    {
      "cell_type": "code",
      "source": [
        "import pandas as pd\n",
        "from datetime import datetime, timedelta\n",
        "\n",
        "# Crea un arreglo con las coincidencias en la columna 'date'\n",
        "coincidencias = Apodaca['date'].to_numpy()\n",
        "\n",
        "# Crea un nuevo arreglo que contiene las fechas originales y las fechas con una hora más\n",
        "coincidencias_totales = list(coincidencias)\n",
        "\n",
        "# Muestra el arreglo de coincidencias totales\n",
        "print(coincidencias_totales)\n"
      ],
      "metadata": {
        "colab": {
          "base_uri": "https://localhost:8080/"
        },
        "id": "o8a5AJJZZ3tS",
        "outputId": "6ce02637-87c0-4e19-fa7e-dc099a62918c"
      },
      "execution_count": 6,
      "outputs": [
        {
          "output_type": "stream",
          "name": "stdout",
          "text": [
            "['2020-01-01 09:00:00', '2020-01-02 05:00:00', '2020-01-02 11:00:00', '2020-01-02 21:00:00', '2020-01-04 01:00:00', '2020-01-04 09:00:00', '2020-01-05 20:00:00', '2020-01-05 21:00:00', '2020-01-06 14:00:00', '2020-01-12 11:00:00', '2020-01-14 11:00:00', '2020-01-18 10:00:00', '2020-01-22 11:00:00', '2020-01-22 12:00:00', '2020-01-22 19:00:00', '2020-01-26 02:00:00', '2020-01-27 02:00:00', '2020-01-27 10:00:00', '2020-01-28 16:00:00', '2020-02-01 06:00:00', '2020-02-01 09:00:00', '2020-02-03 10:00:00', '2020-02-04 12:00:00', '2020-02-04 15:00:00', '2020-02-07 11:00:00', '2020-02-09 12:00:00', '2020-02-15 10:00:00', '2020-02-17 11:00:00', '2020-02-18 09:00:00', '2020-02-26 13:00:00', '2020-02-28 02:00:00', '2020-02-28 10:00:00', '2020-03-09 10:00:00', '2020-03-12 08:00:00', '2020-03-13 10:00:00', '2020-04-12 00:00:00', '2020-04-12 23:00:00', '2020-04-13 00:00:00', '2020-04-13 04:00:00', '2020-04-13 05:00:00', '2020-04-20 07:00:00', '2020-04-20 09:00:00', '2020-04-22 10:00:00', '2020-04-22 11:00:00', '2020-04-23 07:00:00', '2020-04-28 06:00:00', '2020-04-28 10:00:00', '2020-04-29 02:00:00', '2020-04-29 03:00:00', '2020-05-02 09:00:00', '2020-05-03 10:00:00', '2020-05-05 20:00:00', '2020-05-06 03:00:00', '2020-05-08 17:00:00', '2020-05-08 22:00:00', '2020-05-30 09:00:00', '2020-06-09 06:00:00', '2020-06-10 01:00:00', '2020-06-10 02:00:00', '2020-06-19 01:00:00', '2020-06-22 09:00:00', '2020-06-25 08:00:00', '2020-07-01 08:00:00', '2020-07-21 11:00:00', '2020-07-25 05:00:00', '2020-07-25 21:00:00', '2021-03-30 10:00:00', '2021-03-30 11:00:00', '2021-03-31 09:00:00', '2021-04-07 06:00:00', '2021-04-07 15:00:00', '2021-04-24 06:00:00', '2021-05-04 14:00:00', '2021-06-20 09:00:00', '2021-06-22 06:00:00', '2021-07-05 23:00:00', '2021-07-06 12:00:00', '2021-07-08 05:00:00', '2021-07-12 10:00:00', '2021-07-22 07:00:00', '2021-07-29 05:00:00', '2021-08-03 10:00:00', '2021-08-08 09:00:00', '2021-09-13 07:00:00', '2021-09-17 09:00:00', '2021-10-09 09:00:00', '2021-10-26 02:00:00', '2021-11-03 23:00:00', '2021-11-05 23:00:00', '2021-11-10 09:00:00', '2021-11-10 10:00:00', '2021-11-14 06:00:00', '2021-11-15 00:00:00', '2021-11-21 09:00:00', '2021-11-24 11:00:00', '2021-11-24 23:00:00', '2021-11-25 07:00:00', '2021-11-25 09:00:00', '2021-11-27 13:00:00', '2021-11-28 11:00:00', '2021-11-29 09:00:00', '2021-12-01 05:00:00', '2021-12-01 09:00:00', '2021-12-02 01:00:00', '2021-12-03 09:00:00', '2021-12-03 12:00:00', '2021-12-05 12:00:00', '2021-12-07 12:00:00', '2021-12-11 10:00:00', '2021-12-11 11:00:00', '2021-12-13 10:00:00', '2021-12-15 11:00:00', '2021-12-16 10:00:00', '2021-12-16 11:00:00', '2021-12-22 10:00:00', '2021-12-22 21:00:00', '2021-12-23 12:00:00', '2021-12-28 22:00:00', '2022-01-01 02:00:00', '2022-01-04 07:00:00', '2022-01-08 07:00:00', '2022-01-08 09:00:00', '2022-01-09 12:00:00', '2022-01-10 11:00:00', '2022-01-10 12:00:00', '2022-01-13 15:00:00', '2022-01-13 23:00:00', '2022-01-15 07:00:00', '2022-01-15 08:00:00', '2022-01-15 11:00:00', '2022-01-16 12:00:00', '2022-01-24 03:00:00', '2022-01-31 23:00:00', '2022-02-01 02:00:00', '2022-02-02 08:00:00', '2022-02-02 09:00:00', '2022-02-02 10:00:00', '2022-02-06 11:00:00', '2022-02-07 01:00:00', '2022-02-08 23:00:00', '2022-02-09 00:00:00', '2022-02-09 12:00:00', '2022-02-10 10:00:00', '2022-02-10 11:00:00', '2022-02-11 11:00:00', '2022-02-11 12:00:00', '2022-02-13 10:00:00', '2022-02-14 10:00:00', '2022-02-21 11:00:00', '2022-02-21 23:00:00', '2022-02-23 05:00:00', '2022-02-27 06:00:00', '2022-03-02 05:00:00', '2022-03-03 03:00:00', '2022-03-14 11:00:00', '2022-03-17 03:00:00', '2022-03-18 01:00:00', '2022-03-21 21:00:00', '2022-03-21 22:00:00', '2022-03-21 23:00:00', '2022-03-22 00:00:00', '2022-03-22 01:00:00', '2022-03-25 11:00:00', '2022-03-27 04:00:00', '2022-03-29 23:00:00', '2022-04-10 01:00:00', '2022-04-13 13:00:00', '2022-05-19 10:00:00', '2022-05-25 04:00:00', '2022-07-11 11:00:00', '2022-08-18 09:00:00', '2022-08-26 02:00:00', '2022-08-26 09:00:00', '2022-09-24 09:00:00', '2022-09-26 21:00:00', '2022-09-26 22:00:00', '2022-10-05 02:00:00', '2022-10-11 04:00:00', '2022-10-11 23:00:00', '2022-10-12 00:00:00', '2022-10-12 01:00:00', '2022-10-22 11:00:00', '2022-10-24 07:00:00', '2022-10-29 10:00:00', '2022-10-31 06:00:00', '2022-11-04 05:00:00', '2022-11-04 08:00:00', '2022-11-10 09:00:00', '2022-11-11 10:00:00', '2022-11-17 13:00:00', '2022-11-24 12:00:00', '2022-11-24 13:00:00', '2022-11-26 23:00:00', '2022-11-27 20:00:00', '2022-11-27 22:00:00', '2022-11-28 10:00:00', '2022-11-29 08:00:00', '2022-11-29 09:00:00', '2022-12-05 11:00:00', '2022-12-10 11:00:00', '2022-12-11 09:00:00', '2022-12-13 09:00:00', '2022-12-14 05:00:00', '2022-12-14 06:00:00', '2022-12-14 08:00:00', '2022-12-16 12:00:00', '2022-12-25 06:00:00', '2022-12-25 10:00:00', '2022-12-27 09:00:00', '2022-12-30 09:00:00', '2022-12-31 11:00:00', '2022-12-31 21:00:00', '2023-01-06 07:00:00', '2023-01-06 08:00:00', '2023-01-06 11:00:00', '2023-01-10 23:00:00', '2023-01-11 23:00:00', '2023-01-12 07:00:00', '2023-01-20 05:00:00', '2023-01-22 12:00:00', '2023-01-28 11:00:00', '2023-01-30 03:00:00', '2023-01-30 10:00:00', '2023-02-02 14:00:00', '2023-02-03 12:00:00', '2023-02-05 12:00:00', '2023-02-06 23:00:00', '2023-02-07 09:00:00', '2023-02-10 06:00:00', '2023-02-10 08:00:00', '2023-02-10 15:00:00', '2023-02-15 03:00:00', '2023-02-16 07:00:00', '2023-02-19 02:00:00', '2023-02-19 09:00:00', '2023-02-20 09:00:00', '2023-02-21 00:00:00', '2023-02-21 01:00:00', '2023-02-21 10:00:00', '2023-02-22 23:00:00', '2023-02-23 07:00:00', '2023-02-23 08:00:00', '2023-02-24 07:00:00', '2023-02-28 03:00:00', '2023-03-01 06:00:00', '2023-03-01 23:00:00', '2023-03-03 14:00:00', '2023-03-06 05:00:00', '2023-03-06 10:00:00', '2023-03-12 14:00:00', '2023-03-16 07:00:00', '2023-03-21 10:00:00', '2023-03-24 05:00:00', '2023-03-25 02:00:00', '2023-03-25 09:00:00', '2023-03-30 02:00:00', '2023-03-31 03:00:00', '2023-03-31 09:00:00', '2023-03-31 10:00:00', '2023-04-14 08:00:00', '2023-04-15 20:00:00', '2023-04-23 10:00:00', '2023-04-29 03:00:00', '2023-05-05 09:00:00', '2023-05-05 10:00:00', '2023-05-07 02:00:00', '2023-05-09 02:00:00', '2023-05-09 09:00:00', '2023-05-09 10:00:00', '2023-05-15 02:00:00', '2023-05-15 07:00:00', '2023-05-16 03:00:00', '2023-05-16 10:00:00', '2023-05-18 23:00:00', '2023-05-19 00:00:00', '2023-05-21 02:00:00', '2023-05-21 11:00:00', '2023-05-28 09:00:00', '2023-05-28 13:00:00', '2023-05-29 00:00:00', '2023-06-06 08:00:00', '2023-06-20 23:00:00', '2023-06-21 00:00:00', '2023-07-22 10:00:00']\n"
          ]
        }
      ]
    },
    {
      "cell_type": "code",
      "source": [
        "len(coincidencias_totales)"
      ],
      "metadata": {
        "colab": {
          "base_uri": "https://localhost:8080/"
        },
        "id": "aLUd6o9AZ31V",
        "outputId": "9dab3cf2-baf2-4b6a-aab4-958362392384"
      },
      "execution_count": 7,
      "outputs": [
        {
          "output_type": "execute_result",
          "data": {
            "text/plain": [
              "284"
            ]
          },
          "metadata": {},
          "execution_count": 7
        }
      ]
    },
    {
      "cell_type": "code",
      "source": [
        "# Filtrar el dataframe SanNico_ApoEsco basándote en las fechas y horas en coincidencias_totales\n",
        "resultado_final = SanNico_Apodaca[SanNico_Apodaca['date'].isin(coincidencias_totales)]"
      ],
      "metadata": {
        "id": "yDMkW9DTZ33f"
      },
      "execution_count": 8,
      "outputs": []
    },
    {
      "cell_type": "code",
      "source": [
        "resultado_final.info()"
      ],
      "metadata": {
        "colab": {
          "base_uri": "https://localhost:8080/"
        },
        "id": "EQ3h-ac1Z36Z",
        "outputId": "32cdee9f-2420-4de7-ec75-263a0df52a23"
      },
      "execution_count": 9,
      "outputs": [
        {
          "output_type": "stream",
          "name": "stdout",
          "text": [
            "<class 'pandas.core.frame.DataFrame'>\n",
            "Int64Index: 174 entries, 0 to 1794\n",
            "Data columns (total 23 columns):\n",
            " #   Column                Non-Null Count  Dtype  \n",
            "---  ------                --------------  -----  \n",
            " 0   date                  174 non-null    object \n",
            " 1   CO                    174 non-null    float64\n",
            " 2   NO                    174 non-null    float64\n",
            " 3   NO2                   174 non-null    float64\n",
            " 4   NOX                   174 non-null    float64\n",
            " 5   O3                    174 non-null    float64\n",
            " 6   PM10                  174 non-null    float64\n",
            " 7   PM2.5                 174 non-null    float64\n",
            " 8   PRS                   174 non-null    float64\n",
            " 9   RAINF                 174 non-null    float64\n",
            " 10  RH                    174 non-null    float64\n",
            " 11  SO2                   174 non-null    float64\n",
            " 12  SR                    174 non-null    float64\n",
            " 13  TOUT                  174 non-null    float64\n",
            " 14  WSR                   174 non-null    float64\n",
            " 15  WDR                   173 non-null    float64\n",
            " 16  PM10_Clasificacion    174 non-null    object \n",
            " 17  PM2.5_Clasificacion   174 non-null    object \n",
            " 18  O3_1hr_Clasificacion  174 non-null    object \n",
            " 19  03_8hr_Clasificacion  174 non-null    object \n",
            " 20  NO2_Clasificacion     174 non-null    object \n",
            " 21  SO2_Clasificacion     174 non-null    object \n",
            " 22  CO_Clasificacion      174 non-null    object \n",
            "dtypes: float64(15), object(8)\n",
            "memory usage: 32.6+ KB\n"
          ]
        }
      ]
    },
    {
      "cell_type": "code",
      "source": [
        "resultado_final.head()"
      ],
      "metadata": {
        "colab": {
          "base_uri": "https://localhost:8080/",
          "height": 429
        },
        "id": "NN5kYwdPZ3-p",
        "outputId": "844d3f96-1a4b-4c16-a679-29bc1f3b0392"
      },
      "execution_count": 10,
      "outputs": [
        {
          "output_type": "execute_result",
          "data": {
            "text/plain": [
              "                   date    CO      NO     NO2     NOX     O3    PM10  PM2.5  \\\n",
              "0   2021-03-30 10:00:00  0.54  0.0147  0.0233  0.0379  0.020   96.72  31.86   \n",
              "1   2021-03-30 11:00:00  0.61  0.0132  0.0269  0.0400  0.030  110.00  33.40   \n",
              "14  2021-03-31 09:00:00  0.82  0.0331  0.0286  0.0616  0.007  108.96  29.14   \n",
              "27  2021-04-07 06:00:00  0.62  0.0140  0.0222  0.0362  0.001   65.41  23.75   \n",
              "36  2021-04-07 15:00:00  0.29  0.0012  0.0024  0.0034  0.051   61.19  12.25   \n",
              "\n",
              "      PRS  RAINF  ...   TOUT   WSR    WDR  PM10_Clasificacion  \\\n",
              "0   710.9    0.0  ...  21.58   0.5  312.0           Aceptable   \n",
              "1   710.8    0.0  ...  24.69   1.1   51.0           Aceptable   \n",
              "14  712.5    0.0  ...  24.92   0.9   81.0                Mala   \n",
              "27  707.2    0.0  ...  19.36  10.0  280.0           Aceptable   \n",
              "36  707.4    0.0  ...  36.14  14.2  353.0           Aceptable   \n",
              "\n",
              "    PM2.5_Clasificacion  O3_1hr_Clasificacion 03_8hr_Clasificacion  \\\n",
              "0                 Buena                 Buena                Buena   \n",
              "1             Aceptable                 Buena                Buena   \n",
              "14                Buena                 Buena                Buena   \n",
              "27                Buena                 Buena                Buena   \n",
              "36                Buena                 Buena                Buena   \n",
              "\n",
              "   NO2_Clasificacion SO2_Clasificacion CO_Clasificacion  \n",
              "0              Buena             Buena            Buena  \n",
              "1              Buena             Buena            Buena  \n",
              "14             Buena             Buena            Buena  \n",
              "27             Buena             Buena            Buena  \n",
              "36             Buena             Buena            Buena  \n",
              "\n",
              "[5 rows x 23 columns]"
            ],
            "text/html": [
              "\n",
              "  <div id=\"df-f3b66760-b518-481e-934e-57ecb6cf838e\" class=\"colab-df-container\">\n",
              "    <div>\n",
              "<style scoped>\n",
              "    .dataframe tbody tr th:only-of-type {\n",
              "        vertical-align: middle;\n",
              "    }\n",
              "\n",
              "    .dataframe tbody tr th {\n",
              "        vertical-align: top;\n",
              "    }\n",
              "\n",
              "    .dataframe thead th {\n",
              "        text-align: right;\n",
              "    }\n",
              "</style>\n",
              "<table border=\"1\" class=\"dataframe\">\n",
              "  <thead>\n",
              "    <tr style=\"text-align: right;\">\n",
              "      <th></th>\n",
              "      <th>date</th>\n",
              "      <th>CO</th>\n",
              "      <th>NO</th>\n",
              "      <th>NO2</th>\n",
              "      <th>NOX</th>\n",
              "      <th>O3</th>\n",
              "      <th>PM10</th>\n",
              "      <th>PM2.5</th>\n",
              "      <th>PRS</th>\n",
              "      <th>RAINF</th>\n",
              "      <th>...</th>\n",
              "      <th>TOUT</th>\n",
              "      <th>WSR</th>\n",
              "      <th>WDR</th>\n",
              "      <th>PM10_Clasificacion</th>\n",
              "      <th>PM2.5_Clasificacion</th>\n",
              "      <th>O3_1hr_Clasificacion</th>\n",
              "      <th>03_8hr_Clasificacion</th>\n",
              "      <th>NO2_Clasificacion</th>\n",
              "      <th>SO2_Clasificacion</th>\n",
              "      <th>CO_Clasificacion</th>\n",
              "    </tr>\n",
              "  </thead>\n",
              "  <tbody>\n",
              "    <tr>\n",
              "      <th>0</th>\n",
              "      <td>2021-03-30 10:00:00</td>\n",
              "      <td>0.54</td>\n",
              "      <td>0.0147</td>\n",
              "      <td>0.0233</td>\n",
              "      <td>0.0379</td>\n",
              "      <td>0.020</td>\n",
              "      <td>96.72</td>\n",
              "      <td>31.86</td>\n",
              "      <td>710.9</td>\n",
              "      <td>0.0</td>\n",
              "      <td>...</td>\n",
              "      <td>21.58</td>\n",
              "      <td>0.5</td>\n",
              "      <td>312.0</td>\n",
              "      <td>Aceptable</td>\n",
              "      <td>Buena</td>\n",
              "      <td>Buena</td>\n",
              "      <td>Buena</td>\n",
              "      <td>Buena</td>\n",
              "      <td>Buena</td>\n",
              "      <td>Buena</td>\n",
              "    </tr>\n",
              "    <tr>\n",
              "      <th>1</th>\n",
              "      <td>2021-03-30 11:00:00</td>\n",
              "      <td>0.61</td>\n",
              "      <td>0.0132</td>\n",
              "      <td>0.0269</td>\n",
              "      <td>0.0400</td>\n",
              "      <td>0.030</td>\n",
              "      <td>110.00</td>\n",
              "      <td>33.40</td>\n",
              "      <td>710.8</td>\n",
              "      <td>0.0</td>\n",
              "      <td>...</td>\n",
              "      <td>24.69</td>\n",
              "      <td>1.1</td>\n",
              "      <td>51.0</td>\n",
              "      <td>Aceptable</td>\n",
              "      <td>Aceptable</td>\n",
              "      <td>Buena</td>\n",
              "      <td>Buena</td>\n",
              "      <td>Buena</td>\n",
              "      <td>Buena</td>\n",
              "      <td>Buena</td>\n",
              "    </tr>\n",
              "    <tr>\n",
              "      <th>14</th>\n",
              "      <td>2021-03-31 09:00:00</td>\n",
              "      <td>0.82</td>\n",
              "      <td>0.0331</td>\n",
              "      <td>0.0286</td>\n",
              "      <td>0.0616</td>\n",
              "      <td>0.007</td>\n",
              "      <td>108.96</td>\n",
              "      <td>29.14</td>\n",
              "      <td>712.5</td>\n",
              "      <td>0.0</td>\n",
              "      <td>...</td>\n",
              "      <td>24.92</td>\n",
              "      <td>0.9</td>\n",
              "      <td>81.0</td>\n",
              "      <td>Mala</td>\n",
              "      <td>Buena</td>\n",
              "      <td>Buena</td>\n",
              "      <td>Buena</td>\n",
              "      <td>Buena</td>\n",
              "      <td>Buena</td>\n",
              "      <td>Buena</td>\n",
              "    </tr>\n",
              "    <tr>\n",
              "      <th>27</th>\n",
              "      <td>2021-04-07 06:00:00</td>\n",
              "      <td>0.62</td>\n",
              "      <td>0.0140</td>\n",
              "      <td>0.0222</td>\n",
              "      <td>0.0362</td>\n",
              "      <td>0.001</td>\n",
              "      <td>65.41</td>\n",
              "      <td>23.75</td>\n",
              "      <td>707.2</td>\n",
              "      <td>0.0</td>\n",
              "      <td>...</td>\n",
              "      <td>19.36</td>\n",
              "      <td>10.0</td>\n",
              "      <td>280.0</td>\n",
              "      <td>Aceptable</td>\n",
              "      <td>Buena</td>\n",
              "      <td>Buena</td>\n",
              "      <td>Buena</td>\n",
              "      <td>Buena</td>\n",
              "      <td>Buena</td>\n",
              "      <td>Buena</td>\n",
              "    </tr>\n",
              "    <tr>\n",
              "      <th>36</th>\n",
              "      <td>2021-04-07 15:00:00</td>\n",
              "      <td>0.29</td>\n",
              "      <td>0.0012</td>\n",
              "      <td>0.0024</td>\n",
              "      <td>0.0034</td>\n",
              "      <td>0.051</td>\n",
              "      <td>61.19</td>\n",
              "      <td>12.25</td>\n",
              "      <td>707.4</td>\n",
              "      <td>0.0</td>\n",
              "      <td>...</td>\n",
              "      <td>36.14</td>\n",
              "      <td>14.2</td>\n",
              "      <td>353.0</td>\n",
              "      <td>Aceptable</td>\n",
              "      <td>Buena</td>\n",
              "      <td>Buena</td>\n",
              "      <td>Buena</td>\n",
              "      <td>Buena</td>\n",
              "      <td>Buena</td>\n",
              "      <td>Buena</td>\n",
              "    </tr>\n",
              "  </tbody>\n",
              "</table>\n",
              "<p>5 rows × 23 columns</p>\n",
              "</div>\n",
              "    <div class=\"colab-df-buttons\">\n",
              "\n",
              "  <div class=\"colab-df-container\">\n",
              "    <button class=\"colab-df-convert\" onclick=\"convertToInteractive('df-f3b66760-b518-481e-934e-57ecb6cf838e')\"\n",
              "            title=\"Convert this dataframe to an interactive table.\"\n",
              "            style=\"display:none;\">\n",
              "\n",
              "  <svg xmlns=\"http://www.w3.org/2000/svg\" height=\"24px\" viewBox=\"0 -960 960 960\">\n",
              "    <path d=\"M120-120v-720h720v720H120Zm60-500h600v-160H180v160Zm220 220h160v-160H400v160Zm0 220h160v-160H400v160ZM180-400h160v-160H180v160Zm440 0h160v-160H620v160ZM180-180h160v-160H180v160Zm440 0h160v-160H620v160Z\"/>\n",
              "  </svg>\n",
              "    </button>\n",
              "\n",
              "  <style>\n",
              "    .colab-df-container {\n",
              "      display:flex;\n",
              "      gap: 12px;\n",
              "    }\n",
              "\n",
              "    .colab-df-convert {\n",
              "      background-color: #E8F0FE;\n",
              "      border: none;\n",
              "      border-radius: 50%;\n",
              "      cursor: pointer;\n",
              "      display: none;\n",
              "      fill: #1967D2;\n",
              "      height: 32px;\n",
              "      padding: 0 0 0 0;\n",
              "      width: 32px;\n",
              "    }\n",
              "\n",
              "    .colab-df-convert:hover {\n",
              "      background-color: #E2EBFA;\n",
              "      box-shadow: 0px 1px 2px rgba(60, 64, 67, 0.3), 0px 1px 3px 1px rgba(60, 64, 67, 0.15);\n",
              "      fill: #174EA6;\n",
              "    }\n",
              "\n",
              "    .colab-df-buttons div {\n",
              "      margin-bottom: 4px;\n",
              "    }\n",
              "\n",
              "    [theme=dark] .colab-df-convert {\n",
              "      background-color: #3B4455;\n",
              "      fill: #D2E3FC;\n",
              "    }\n",
              "\n",
              "    [theme=dark] .colab-df-convert:hover {\n",
              "      background-color: #434B5C;\n",
              "      box-shadow: 0px 1px 3px 1px rgba(0, 0, 0, 0.15);\n",
              "      filter: drop-shadow(0px 1px 2px rgba(0, 0, 0, 0.3));\n",
              "      fill: #FFFFFF;\n",
              "    }\n",
              "  </style>\n",
              "\n",
              "    <script>\n",
              "      const buttonEl =\n",
              "        document.querySelector('#df-f3b66760-b518-481e-934e-57ecb6cf838e button.colab-df-convert');\n",
              "      buttonEl.style.display =\n",
              "        google.colab.kernel.accessAllowed ? 'block' : 'none';\n",
              "\n",
              "      async function convertToInteractive(key) {\n",
              "        const element = document.querySelector('#df-f3b66760-b518-481e-934e-57ecb6cf838e');\n",
              "        const dataTable =\n",
              "          await google.colab.kernel.invokeFunction('convertToInteractive',\n",
              "                                                    [key], {});\n",
              "        if (!dataTable) return;\n",
              "\n",
              "        const docLinkHtml = 'Like what you see? Visit the ' +\n",
              "          '<a target=\"_blank\" href=https://colab.research.google.com/notebooks/data_table.ipynb>data table notebook</a>'\n",
              "          + ' to learn more about interactive tables.';\n",
              "        element.innerHTML = '';\n",
              "        dataTable['output_type'] = 'display_data';\n",
              "        await google.colab.output.renderOutput(dataTable, element);\n",
              "        const docLink = document.createElement('div');\n",
              "        docLink.innerHTML = docLinkHtml;\n",
              "        element.appendChild(docLink);\n",
              "      }\n",
              "    </script>\n",
              "  </div>\n",
              "\n",
              "\n",
              "<div id=\"df-2efaa6fd-51b6-4741-b423-ccd8e849742d\">\n",
              "  <button class=\"colab-df-quickchart\" onclick=\"quickchart('df-2efaa6fd-51b6-4741-b423-ccd8e849742d')\"\n",
              "            title=\"Suggest charts\"\n",
              "            style=\"display:none;\">\n",
              "\n",
              "<svg xmlns=\"http://www.w3.org/2000/svg\" height=\"24px\"viewBox=\"0 0 24 24\"\n",
              "     width=\"24px\">\n",
              "    <g>\n",
              "        <path d=\"M19 3H5c-1.1 0-2 .9-2 2v14c0 1.1.9 2 2 2h14c1.1 0 2-.9 2-2V5c0-1.1-.9-2-2-2zM9 17H7v-7h2v7zm4 0h-2V7h2v10zm4 0h-2v-4h2v4z\"/>\n",
              "    </g>\n",
              "</svg>\n",
              "  </button>\n",
              "\n",
              "<style>\n",
              "  .colab-df-quickchart {\n",
              "      --bg-color: #E8F0FE;\n",
              "      --fill-color: #1967D2;\n",
              "      --hover-bg-color: #E2EBFA;\n",
              "      --hover-fill-color: #174EA6;\n",
              "      --disabled-fill-color: #AAA;\n",
              "      --disabled-bg-color: #DDD;\n",
              "  }\n",
              "\n",
              "  [theme=dark] .colab-df-quickchart {\n",
              "      --bg-color: #3B4455;\n",
              "      --fill-color: #D2E3FC;\n",
              "      --hover-bg-color: #434B5C;\n",
              "      --hover-fill-color: #FFFFFF;\n",
              "      --disabled-bg-color: #3B4455;\n",
              "      --disabled-fill-color: #666;\n",
              "  }\n",
              "\n",
              "  .colab-df-quickchart {\n",
              "    background-color: var(--bg-color);\n",
              "    border: none;\n",
              "    border-radius: 50%;\n",
              "    cursor: pointer;\n",
              "    display: none;\n",
              "    fill: var(--fill-color);\n",
              "    height: 32px;\n",
              "    padding: 0;\n",
              "    width: 32px;\n",
              "  }\n",
              "\n",
              "  .colab-df-quickchart:hover {\n",
              "    background-color: var(--hover-bg-color);\n",
              "    box-shadow: 0 1px 2px rgba(60, 64, 67, 0.3), 0 1px 3px 1px rgba(60, 64, 67, 0.15);\n",
              "    fill: var(--button-hover-fill-color);\n",
              "  }\n",
              "\n",
              "  .colab-df-quickchart-complete:disabled,\n",
              "  .colab-df-quickchart-complete:disabled:hover {\n",
              "    background-color: var(--disabled-bg-color);\n",
              "    fill: var(--disabled-fill-color);\n",
              "    box-shadow: none;\n",
              "  }\n",
              "\n",
              "  .colab-df-spinner {\n",
              "    border: 2px solid var(--fill-color);\n",
              "    border-color: transparent;\n",
              "    border-bottom-color: var(--fill-color);\n",
              "    animation:\n",
              "      spin 1s steps(1) infinite;\n",
              "  }\n",
              "\n",
              "  @keyframes spin {\n",
              "    0% {\n",
              "      border-color: transparent;\n",
              "      border-bottom-color: var(--fill-color);\n",
              "      border-left-color: var(--fill-color);\n",
              "    }\n",
              "    20% {\n",
              "      border-color: transparent;\n",
              "      border-left-color: var(--fill-color);\n",
              "      border-top-color: var(--fill-color);\n",
              "    }\n",
              "    30% {\n",
              "      border-color: transparent;\n",
              "      border-left-color: var(--fill-color);\n",
              "      border-top-color: var(--fill-color);\n",
              "      border-right-color: var(--fill-color);\n",
              "    }\n",
              "    40% {\n",
              "      border-color: transparent;\n",
              "      border-right-color: var(--fill-color);\n",
              "      border-top-color: var(--fill-color);\n",
              "    }\n",
              "    60% {\n",
              "      border-color: transparent;\n",
              "      border-right-color: var(--fill-color);\n",
              "    }\n",
              "    80% {\n",
              "      border-color: transparent;\n",
              "      border-right-color: var(--fill-color);\n",
              "      border-bottom-color: var(--fill-color);\n",
              "    }\n",
              "    90% {\n",
              "      border-color: transparent;\n",
              "      border-bottom-color: var(--fill-color);\n",
              "    }\n",
              "  }\n",
              "</style>\n",
              "\n",
              "  <script>\n",
              "    async function quickchart(key) {\n",
              "      const quickchartButtonEl =\n",
              "        document.querySelector('#' + key + ' button');\n",
              "      quickchartButtonEl.disabled = true;  // To prevent multiple clicks.\n",
              "      quickchartButtonEl.classList.add('colab-df-spinner');\n",
              "      try {\n",
              "        const charts = await google.colab.kernel.invokeFunction(\n",
              "            'suggestCharts', [key], {});\n",
              "      } catch (error) {\n",
              "        console.error('Error during call to suggestCharts:', error);\n",
              "      }\n",
              "      quickchartButtonEl.classList.remove('colab-df-spinner');\n",
              "      quickchartButtonEl.classList.add('colab-df-quickchart-complete');\n",
              "    }\n",
              "    (() => {\n",
              "      let quickchartButtonEl =\n",
              "        document.querySelector('#df-2efaa6fd-51b6-4741-b423-ccd8e849742d button');\n",
              "      quickchartButtonEl.style.display =\n",
              "        google.colab.kernel.accessAllowed ? 'block' : 'none';\n",
              "    })();\n",
              "  </script>\n",
              "</div>\n",
              "    </div>\n",
              "  </div>\n"
            ]
          },
          "metadata": {},
          "execution_count": 10
        }
      ]
    },
    {
      "cell_type": "code",
      "source": [
        "# Selecciona las columnas que deseas conservar en un nuevo dataframe\n",
        "columnas_deseadas = ['date', 'PM10', 'PM2.5', 'WSR']\n",
        "apo_Predictoras = Apodaca[columnas_deseadas]\n",
        "\n",
        "# Muestra el nuevo dataframe\n",
        "print(apo_Predictoras)"
      ],
      "metadata": {
        "colab": {
          "base_uri": "https://localhost:8080/"
        },
        "id": "HZb9ESeEZ4BT",
        "outputId": "67344504-45df-424d-cd4f-bf34294b5486"
      },
      "execution_count": 11,
      "outputs": [
        {
          "output_type": "stream",
          "name": "stdout",
          "text": [
            "                    date   PM10  PM2.5    WSR\n",
            "0    2020-01-01 09:00:00  58.00  60.55   2.40\n",
            "1    2020-01-02 05:00:00   3.25   2.40   6.90\n",
            "2    2020-01-02 11:00:00  16.00   3.48  18.50\n",
            "3    2020-01-02 21:00:00  38.00  16.34   6.30\n",
            "4    2020-01-04 01:00:00  10.00   4.26   8.40\n",
            "..                   ...    ...    ...    ...\n",
            "284  2023-05-29 00:00:00  31.50  11.18   6.40\n",
            "285  2023-06-06 08:00:00  78.00  32.08   4.50\n",
            "286  2023-06-20 23:00:00  86.38  26.08   8.25\n",
            "287  2023-06-21 00:00:00  81.50  26.18   7.04\n",
            "288  2023-07-22 10:00:00  58.00  10.06   4.80\n",
            "\n",
            "[284 rows x 4 columns]\n"
          ]
        }
      ]
    },
    {
      "cell_type": "code",
      "source": [
        "# Selecciona las columnas que deseas conservar en un nuevo dataframe\n",
        "columnas_deseadas = ['date', 'PM10_Clasificacion', 'PM2.5_Clasificacion', 'PRS', 'RAINF', 'TOUT', 'RH', 'SR',  'WSR']\n",
        "sanNico = resultado_final[columnas_deseadas]\n",
        "\n",
        "# Muestra el nuevo dataframe\n",
        "print(sanNico)"
      ],
      "metadata": {
        "colab": {
          "base_uri": "https://localhost:8080/"
        },
        "id": "L3dj0-aoZ4EE",
        "outputId": "938f4fd9-0b77-4f90-9f92-57d8ec0aa791"
      },
      "execution_count": 12,
      "outputs": [
        {
          "output_type": "stream",
          "name": "stdout",
          "text": [
            "                     date PM10_Clasificacion PM2.5_Clasificacion    PRS  \\\n",
            "0     2021-03-30 10:00:00          Aceptable               Buena  710.9   \n",
            "1     2021-03-30 11:00:00          Aceptable           Aceptable  710.8   \n",
            "14    2021-03-31 09:00:00               Mala               Buena  712.5   \n",
            "27    2021-04-07 06:00:00          Aceptable               Buena  707.2   \n",
            "36    2021-04-07 15:00:00          Aceptable               Buena  707.4   \n",
            "...                   ...                ...                 ...    ...   \n",
            "1748  2023-03-16 07:00:00              Buena               Buena  708.9   \n",
            "1761  2023-03-21 10:00:00              Buena           Aceptable  713.0   \n",
            "1774  2023-03-24 05:00:00          Aceptable               Buena  706.7   \n",
            "1787  2023-03-25 02:00:00          Aceptable               Buena  707.9   \n",
            "1794  2023-03-25 09:00:00          Aceptable               Buena  711.4   \n",
            "\n",
            "      RAINF   TOUT    RH     SR   WSR  \n",
            "0       0.0  21.58  53.0  0.373   0.5  \n",
            "1       0.0  24.69  43.0  0.580   1.1  \n",
            "14      0.0  24.92  60.0  0.231   0.9  \n",
            "27      0.0  19.36  82.0  0.039  10.0  \n",
            "36      0.0  36.14   8.0  0.730  14.2  \n",
            "...     ...    ...   ...    ...   ...  \n",
            "1748    0.0  18.16  97.0  0.001   8.0  \n",
            "1761    0.0  17.31  64.0  0.428   6.6  \n",
            "1774    0.0  20.76  77.0  0.000   5.2  \n",
            "1787    0.0  25.45  38.0  0.000   4.5  \n",
            "1794    0.0  24.16  14.0  0.276  18.0  \n",
            "\n",
            "[174 rows x 9 columns]\n"
          ]
        }
      ]
    },
    {
      "cell_type": "code",
      "source": [
        "# Combina los dataframes basándose en la columna 'date'\n",
        "df_unido = pd.merge(sanNico, apo_Predictoras, on='date')"
      ],
      "metadata": {
        "id": "hFRiNYuzZ4HN"
      },
      "execution_count": 13,
      "outputs": []
    },
    {
      "cell_type": "code",
      "source": [
        "df_unido.info()"
      ],
      "metadata": {
        "colab": {
          "base_uri": "https://localhost:8080/"
        },
        "id": "g2zjJrGxZ4K0",
        "outputId": "05547fd1-5c83-489a-d7c0-d71e2a912e66"
      },
      "execution_count": 14,
      "outputs": [
        {
          "output_type": "stream",
          "name": "stdout",
          "text": [
            "<class 'pandas.core.frame.DataFrame'>\n",
            "Int64Index: 174 entries, 0 to 173\n",
            "Data columns (total 12 columns):\n",
            " #   Column               Non-Null Count  Dtype  \n",
            "---  ------               --------------  -----  \n",
            " 0   date                 174 non-null    object \n",
            " 1   PM10_Clasificacion   174 non-null    object \n",
            " 2   PM2.5_Clasificacion  174 non-null    object \n",
            " 3   PRS                  174 non-null    float64\n",
            " 4   RAINF                174 non-null    float64\n",
            " 5   TOUT                 174 non-null    float64\n",
            " 6   RH                   174 non-null    float64\n",
            " 7   SR                   174 non-null    float64\n",
            " 8   WSR_x                174 non-null    float64\n",
            " 9   PM10                 174 non-null    float64\n",
            " 10  PM2.5                174 non-null    float64\n",
            " 11  WSR_y                174 non-null    float64\n",
            "dtypes: float64(9), object(3)\n",
            "memory usage: 17.7+ KB\n"
          ]
        }
      ]
    },
    {
      "cell_type": "code",
      "source": [
        "# Selecciona las columnas numéricas y categóricas\n",
        "columnas_numericas = df_unido.select_dtypes(include=['number']).columns\n",
        "columnas_categoricas = df_unido.select_dtypes(include=['object']).columns\n",
        "\n",
        "# Calcula la varianza solo para las columnas numéricas\n",
        "varianzas_numericas = df_unido[columnas_numericas].var()\n",
        "\n",
        "# Establece un umbral para la varianza (puedes ajustar este valor según tus necesidades)\n",
        "umbral_varianza = 0.1\n",
        "\n",
        "# Filtra las columnas numéricas con varianza mayor al umbral\n",
        "columnas_numericas_con_suficiente_varianza = varianzas_numericas[varianzas_numericas >= umbral_varianza].index\n",
        "\n",
        "# Combina las columnas seleccionadas numéricas y las categóricas\n",
        "columnas_seleccionadas = list(columnas_numericas_con_suficiente_varianza) + list(columnas_categoricas)\n",
        "\n",
        "# Crea un nuevo dataframe con las columnas seleccionadas\n",
        "df_1 = df_unido[columnas_seleccionadas]\n",
        "\n",
        "# Muestra el nuevo dataframe\n",
        "print(df_1)\n"
      ],
      "metadata": {
        "colab": {
          "base_uri": "https://localhost:8080/"
        },
        "id": "hWf_-KhaZ4PC",
        "outputId": "27a2c9bd-27f6-41ad-9b3d-e3ce08e1436d"
      },
      "execution_count": 15,
      "outputs": [
        {
          "output_type": "stream",
          "name": "stdout",
          "text": [
            "       PRS   TOUT    RH  WSR_x  PM10  PM2.5  WSR_y                 date  \\\n",
            "0    710.9  21.58  53.0    0.5  73.0  15.87    7.5  2021-03-30 10:00:00   \n",
            "1    710.8  24.69  43.0    1.1  76.0  16.67    5.0  2021-03-30 11:00:00   \n",
            "2    712.5  24.92  60.0    0.9  82.0  19.51    6.5  2021-03-31 09:00:00   \n",
            "3    707.2  19.36  82.0   10.0  51.0  12.61    5.7  2021-04-07 06:00:00   \n",
            "4    707.4  36.14   8.0   14.2  50.0   5.56    8.9  2021-04-07 15:00:00   \n",
            "..     ...    ...   ...    ...   ...    ...    ...                  ...   \n",
            "169  708.9  18.16  97.0    8.0  46.0   5.51    8.4  2023-03-16 07:00:00   \n",
            "170  713.0  17.31  64.0    6.6  64.0  39.68    5.3  2023-03-21 10:00:00   \n",
            "171  706.7  20.76  77.0    5.2  63.0  19.17    2.8  2023-03-24 05:00:00   \n",
            "172  707.9  25.45  38.0    4.5  86.0  23.80    2.4  2023-03-25 02:00:00   \n",
            "173  711.4  24.16  14.0   18.0  55.0   7.74    6.9  2023-03-25 09:00:00   \n",
            "\n",
            "    PM10_Clasificacion PM2.5_Clasificacion  \n",
            "0            Aceptable               Buena  \n",
            "1            Aceptable           Aceptable  \n",
            "2                 Mala               Buena  \n",
            "3            Aceptable               Buena  \n",
            "4            Aceptable               Buena  \n",
            "..                 ...                 ...  \n",
            "169              Buena               Buena  \n",
            "170              Buena           Aceptable  \n",
            "171          Aceptable               Buena  \n",
            "172          Aceptable               Buena  \n",
            "173          Aceptable               Buena  \n",
            "\n",
            "[174 rows x 10 columns]\n"
          ]
        }
      ]
    },
    {
      "cell_type": "code",
      "source": [
        "from sklearn.decomposition import PCA\n",
        "from sklearn.preprocessing import StandardScaler\n",
        "\n",
        "# Selecciona las variables de interés\n",
        "variables_de_interes = ['PRS', 'TOUT', 'RH', 'WSR_x']\n",
        "\n",
        "# Subconjunto del dataframe con solo las variables de interés\n",
        "df_subset = df_1[variables_de_interes]\n",
        "\n",
        "# Estandariza las variables antes de calcular la matriz de correlación\n",
        "scaler = StandardScaler()\n",
        "df_scaled = scaler.fit_transform(df_subset)\n",
        "\n",
        "# Calcula la matriz de correlación\n",
        "matriz_correlacion = pd.DataFrame(df_scaled, columns=df_subset.columns).corr()\n",
        "\n",
        "# Aplica PCA a partir de la matriz de correlación\n",
        "pca = PCA()\n",
        "componentes_principales = pca.fit_transform(matriz_correlacion)\n",
        "\n",
        "# Proporción de varianza explicada por cada componente principal\n",
        "varianza_explicada = pca.explained_variance_ratio_\n",
        "\n",
        "# Muestra la proporción de varianza explicada por cada componente\n",
        "for i, var_exp in enumerate(varianza_explicada):\n",
        "    print(f'Varianza explicada por PC{i + 1}: {var_exp:.4f}')\n",
        "\n",
        "\n",
        "# Coeficientes de las variables originales en los componentes principales\n",
        "cargas_factoriales = pca.components_.T\n",
        "\n",
        "# Crear un nuevo dataframe con los coeficientes\n",
        "df_coeficientes = pd.DataFrame(data=cargas_factoriales, columns=[f'Coef_PC{i + 1}' for i in range(len(variables_de_interes))])\n",
        "\n",
        "# Muestra el dataframe con los coeficientes\n",
        "print(df_coeficientes)\n",
        "\n",
        "# Coeficientes de las variables originales en PC1 y PC2\n",
        "coeficientes = {\n",
        "    'PC1': pca.components_[0],\n",
        "    'PC2': pca.components_[1]\n",
        "}\n",
        "\n",
        "# Calcula los valores de PC1 y PC2 para cada registro en el dataframe original\n",
        "df_1['PC1'] = df_scaled.dot(coeficientes['PC1'])\n",
        "df_1['PC2'] = df_scaled.dot(coeficientes['PC2'])\n",
        "\n",
        "# Muestra el dataframe con los valores de PC1 y PC2 agregados\n",
        "print(df_1[['PC1', 'PC2']])"
      ],
      "metadata": {
        "colab": {
          "base_uri": "https://localhost:8080/"
        },
        "id": "YWAZSQVEZ4ZZ",
        "outputId": "3d8d3a4e-b749-45af-ce52-36c1550b630c"
      },
      "execution_count": 16,
      "outputs": [
        {
          "output_type": "stream",
          "name": "stdout",
          "text": [
            "Varianza explicada por PC1: 0.6491\n",
            "Varianza explicada por PC2: 0.2469\n",
            "Varianza explicada por PC3: 0.1040\n",
            "Varianza explicada por PC4: 0.0000\n",
            "   Coef_PC1  Coef_PC2  Coef_PC3  Coef_PC4\n",
            "0 -0.556851 -0.534169 -0.226667  0.594309\n",
            "1  0.639202  0.190892 -0.435576  0.604362\n",
            "2 -0.363719  0.709547  0.401914  0.450239\n",
            "3  0.386064 -0.418051  0.772891  0.280762\n",
            "          PC1       PC2\n",
            "0    0.022680  0.643898\n",
            "1    0.560988  0.451983\n",
            "2    0.119055  0.715309\n",
            "3    0.464508  1.152101\n",
            "4    3.608641 -0.578663\n",
            "..        ...       ...\n",
            "169 -0.225712  1.438242\n",
            "170 -0.493516  0.110226\n",
            "171  0.449606  1.459629\n",
            "172  1.310599  0.472112\n",
            "173  1.898839 -1.584174\n",
            "\n",
            "[174 rows x 2 columns]\n"
          ]
        },
        {
          "output_type": "stream",
          "name": "stderr",
          "text": [
            "<ipython-input-16-921dd5cc1554>:45: SettingWithCopyWarning: \n",
            "A value is trying to be set on a copy of a slice from a DataFrame.\n",
            "Try using .loc[row_indexer,col_indexer] = value instead\n",
            "\n",
            "See the caveats in the documentation: https://pandas.pydata.org/pandas-docs/stable/user_guide/indexing.html#returning-a-view-versus-a-copy\n",
            "  df_1['PC1'] = df_scaled.dot(coeficientes['PC1'])\n"
          ]
        }
      ]
    },
    {
      "cell_type": "code",
      "source": [
        "df_1.head()"
      ],
      "metadata": {
        "colab": {
          "base_uri": "https://localhost:8080/",
          "height": 206
        },
        "id": "_tzn0EWqZ4cg",
        "outputId": "56b889cf-2458-49ab-ca06-64326a725a3f"
      },
      "execution_count": 17,
      "outputs": [
        {
          "output_type": "execute_result",
          "data": {
            "text/plain": [
              "     PRS   TOUT    RH  WSR_x  PM10  PM2.5  WSR_y                 date  \\\n",
              "0  710.9  21.58  53.0    0.5  73.0  15.87    7.5  2021-03-30 10:00:00   \n",
              "1  710.8  24.69  43.0    1.1  76.0  16.67    5.0  2021-03-30 11:00:00   \n",
              "2  712.5  24.92  60.0    0.9  82.0  19.51    6.5  2021-03-31 09:00:00   \n",
              "3  707.2  19.36  82.0   10.0  51.0  12.61    5.7  2021-04-07 06:00:00   \n",
              "4  707.4  36.14   8.0   14.2  50.0   5.56    8.9  2021-04-07 15:00:00   \n",
              "\n",
              "  PM10_Clasificacion PM2.5_Clasificacion       PC1       PC2  \n",
              "0          Aceptable               Buena  0.022680  0.643898  \n",
              "1          Aceptable           Aceptable  0.560988  0.451983  \n",
              "2               Mala               Buena  0.119055  0.715309  \n",
              "3          Aceptable               Buena  0.464508  1.152101  \n",
              "4          Aceptable               Buena  3.608641 -0.578663  "
            ],
            "text/html": [
              "\n",
              "  <div id=\"df-68e352bb-b0f1-409e-a2a3-e19b93654959\" class=\"colab-df-container\">\n",
              "    <div>\n",
              "<style scoped>\n",
              "    .dataframe tbody tr th:only-of-type {\n",
              "        vertical-align: middle;\n",
              "    }\n",
              "\n",
              "    .dataframe tbody tr th {\n",
              "        vertical-align: top;\n",
              "    }\n",
              "\n",
              "    .dataframe thead th {\n",
              "        text-align: right;\n",
              "    }\n",
              "</style>\n",
              "<table border=\"1\" class=\"dataframe\">\n",
              "  <thead>\n",
              "    <tr style=\"text-align: right;\">\n",
              "      <th></th>\n",
              "      <th>PRS</th>\n",
              "      <th>TOUT</th>\n",
              "      <th>RH</th>\n",
              "      <th>WSR_x</th>\n",
              "      <th>PM10</th>\n",
              "      <th>PM2.5</th>\n",
              "      <th>WSR_y</th>\n",
              "      <th>date</th>\n",
              "      <th>PM10_Clasificacion</th>\n",
              "      <th>PM2.5_Clasificacion</th>\n",
              "      <th>PC1</th>\n",
              "      <th>PC2</th>\n",
              "    </tr>\n",
              "  </thead>\n",
              "  <tbody>\n",
              "    <tr>\n",
              "      <th>0</th>\n",
              "      <td>710.9</td>\n",
              "      <td>21.58</td>\n",
              "      <td>53.0</td>\n",
              "      <td>0.5</td>\n",
              "      <td>73.0</td>\n",
              "      <td>15.87</td>\n",
              "      <td>7.5</td>\n",
              "      <td>2021-03-30 10:00:00</td>\n",
              "      <td>Aceptable</td>\n",
              "      <td>Buena</td>\n",
              "      <td>0.022680</td>\n",
              "      <td>0.643898</td>\n",
              "    </tr>\n",
              "    <tr>\n",
              "      <th>1</th>\n",
              "      <td>710.8</td>\n",
              "      <td>24.69</td>\n",
              "      <td>43.0</td>\n",
              "      <td>1.1</td>\n",
              "      <td>76.0</td>\n",
              "      <td>16.67</td>\n",
              "      <td>5.0</td>\n",
              "      <td>2021-03-30 11:00:00</td>\n",
              "      <td>Aceptable</td>\n",
              "      <td>Aceptable</td>\n",
              "      <td>0.560988</td>\n",
              "      <td>0.451983</td>\n",
              "    </tr>\n",
              "    <tr>\n",
              "      <th>2</th>\n",
              "      <td>712.5</td>\n",
              "      <td>24.92</td>\n",
              "      <td>60.0</td>\n",
              "      <td>0.9</td>\n",
              "      <td>82.0</td>\n",
              "      <td>19.51</td>\n",
              "      <td>6.5</td>\n",
              "      <td>2021-03-31 09:00:00</td>\n",
              "      <td>Mala</td>\n",
              "      <td>Buena</td>\n",
              "      <td>0.119055</td>\n",
              "      <td>0.715309</td>\n",
              "    </tr>\n",
              "    <tr>\n",
              "      <th>3</th>\n",
              "      <td>707.2</td>\n",
              "      <td>19.36</td>\n",
              "      <td>82.0</td>\n",
              "      <td>10.0</td>\n",
              "      <td>51.0</td>\n",
              "      <td>12.61</td>\n",
              "      <td>5.7</td>\n",
              "      <td>2021-04-07 06:00:00</td>\n",
              "      <td>Aceptable</td>\n",
              "      <td>Buena</td>\n",
              "      <td>0.464508</td>\n",
              "      <td>1.152101</td>\n",
              "    </tr>\n",
              "    <tr>\n",
              "      <th>4</th>\n",
              "      <td>707.4</td>\n",
              "      <td>36.14</td>\n",
              "      <td>8.0</td>\n",
              "      <td>14.2</td>\n",
              "      <td>50.0</td>\n",
              "      <td>5.56</td>\n",
              "      <td>8.9</td>\n",
              "      <td>2021-04-07 15:00:00</td>\n",
              "      <td>Aceptable</td>\n",
              "      <td>Buena</td>\n",
              "      <td>3.608641</td>\n",
              "      <td>-0.578663</td>\n",
              "    </tr>\n",
              "  </tbody>\n",
              "</table>\n",
              "</div>\n",
              "    <div class=\"colab-df-buttons\">\n",
              "\n",
              "  <div class=\"colab-df-container\">\n",
              "    <button class=\"colab-df-convert\" onclick=\"convertToInteractive('df-68e352bb-b0f1-409e-a2a3-e19b93654959')\"\n",
              "            title=\"Convert this dataframe to an interactive table.\"\n",
              "            style=\"display:none;\">\n",
              "\n",
              "  <svg xmlns=\"http://www.w3.org/2000/svg\" height=\"24px\" viewBox=\"0 -960 960 960\">\n",
              "    <path d=\"M120-120v-720h720v720H120Zm60-500h600v-160H180v160Zm220 220h160v-160H400v160Zm0 220h160v-160H400v160ZM180-400h160v-160H180v160Zm440 0h160v-160H620v160ZM180-180h160v-160H180v160Zm440 0h160v-160H620v160Z\"/>\n",
              "  </svg>\n",
              "    </button>\n",
              "\n",
              "  <style>\n",
              "    .colab-df-container {\n",
              "      display:flex;\n",
              "      gap: 12px;\n",
              "    }\n",
              "\n",
              "    .colab-df-convert {\n",
              "      background-color: #E8F0FE;\n",
              "      border: none;\n",
              "      border-radius: 50%;\n",
              "      cursor: pointer;\n",
              "      display: none;\n",
              "      fill: #1967D2;\n",
              "      height: 32px;\n",
              "      padding: 0 0 0 0;\n",
              "      width: 32px;\n",
              "    }\n",
              "\n",
              "    .colab-df-convert:hover {\n",
              "      background-color: #E2EBFA;\n",
              "      box-shadow: 0px 1px 2px rgba(60, 64, 67, 0.3), 0px 1px 3px 1px rgba(60, 64, 67, 0.15);\n",
              "      fill: #174EA6;\n",
              "    }\n",
              "\n",
              "    .colab-df-buttons div {\n",
              "      margin-bottom: 4px;\n",
              "    }\n",
              "\n",
              "    [theme=dark] .colab-df-convert {\n",
              "      background-color: #3B4455;\n",
              "      fill: #D2E3FC;\n",
              "    }\n",
              "\n",
              "    [theme=dark] .colab-df-convert:hover {\n",
              "      background-color: #434B5C;\n",
              "      box-shadow: 0px 1px 3px 1px rgba(0, 0, 0, 0.15);\n",
              "      filter: drop-shadow(0px 1px 2px rgba(0, 0, 0, 0.3));\n",
              "      fill: #FFFFFF;\n",
              "    }\n",
              "  </style>\n",
              "\n",
              "    <script>\n",
              "      const buttonEl =\n",
              "        document.querySelector('#df-68e352bb-b0f1-409e-a2a3-e19b93654959 button.colab-df-convert');\n",
              "      buttonEl.style.display =\n",
              "        google.colab.kernel.accessAllowed ? 'block' : 'none';\n",
              "\n",
              "      async function convertToInteractive(key) {\n",
              "        const element = document.querySelector('#df-68e352bb-b0f1-409e-a2a3-e19b93654959');\n",
              "        const dataTable =\n",
              "          await google.colab.kernel.invokeFunction('convertToInteractive',\n",
              "                                                    [key], {});\n",
              "        if (!dataTable) return;\n",
              "\n",
              "        const docLinkHtml = 'Like what you see? Visit the ' +\n",
              "          '<a target=\"_blank\" href=https://colab.research.google.com/notebooks/data_table.ipynb>data table notebook</a>'\n",
              "          + ' to learn more about interactive tables.';\n",
              "        element.innerHTML = '';\n",
              "        dataTable['output_type'] = 'display_data';\n",
              "        await google.colab.output.renderOutput(dataTable, element);\n",
              "        const docLink = document.createElement('div');\n",
              "        docLink.innerHTML = docLinkHtml;\n",
              "        element.appendChild(docLink);\n",
              "      }\n",
              "    </script>\n",
              "  </div>\n",
              "\n",
              "\n",
              "<div id=\"df-cfb0abb5-c674-4e14-a03c-a95b312ad2bf\">\n",
              "  <button class=\"colab-df-quickchart\" onclick=\"quickchart('df-cfb0abb5-c674-4e14-a03c-a95b312ad2bf')\"\n",
              "            title=\"Suggest charts\"\n",
              "            style=\"display:none;\">\n",
              "\n",
              "<svg xmlns=\"http://www.w3.org/2000/svg\" height=\"24px\"viewBox=\"0 0 24 24\"\n",
              "     width=\"24px\">\n",
              "    <g>\n",
              "        <path d=\"M19 3H5c-1.1 0-2 .9-2 2v14c0 1.1.9 2 2 2h14c1.1 0 2-.9 2-2V5c0-1.1-.9-2-2-2zM9 17H7v-7h2v7zm4 0h-2V7h2v10zm4 0h-2v-4h2v4z\"/>\n",
              "    </g>\n",
              "</svg>\n",
              "  </button>\n",
              "\n",
              "<style>\n",
              "  .colab-df-quickchart {\n",
              "      --bg-color: #E8F0FE;\n",
              "      --fill-color: #1967D2;\n",
              "      --hover-bg-color: #E2EBFA;\n",
              "      --hover-fill-color: #174EA6;\n",
              "      --disabled-fill-color: #AAA;\n",
              "      --disabled-bg-color: #DDD;\n",
              "  }\n",
              "\n",
              "  [theme=dark] .colab-df-quickchart {\n",
              "      --bg-color: #3B4455;\n",
              "      --fill-color: #D2E3FC;\n",
              "      --hover-bg-color: #434B5C;\n",
              "      --hover-fill-color: #FFFFFF;\n",
              "      --disabled-bg-color: #3B4455;\n",
              "      --disabled-fill-color: #666;\n",
              "  }\n",
              "\n",
              "  .colab-df-quickchart {\n",
              "    background-color: var(--bg-color);\n",
              "    border: none;\n",
              "    border-radius: 50%;\n",
              "    cursor: pointer;\n",
              "    display: none;\n",
              "    fill: var(--fill-color);\n",
              "    height: 32px;\n",
              "    padding: 0;\n",
              "    width: 32px;\n",
              "  }\n",
              "\n",
              "  .colab-df-quickchart:hover {\n",
              "    background-color: var(--hover-bg-color);\n",
              "    box-shadow: 0 1px 2px rgba(60, 64, 67, 0.3), 0 1px 3px 1px rgba(60, 64, 67, 0.15);\n",
              "    fill: var(--button-hover-fill-color);\n",
              "  }\n",
              "\n",
              "  .colab-df-quickchart-complete:disabled,\n",
              "  .colab-df-quickchart-complete:disabled:hover {\n",
              "    background-color: var(--disabled-bg-color);\n",
              "    fill: var(--disabled-fill-color);\n",
              "    box-shadow: none;\n",
              "  }\n",
              "\n",
              "  .colab-df-spinner {\n",
              "    border: 2px solid var(--fill-color);\n",
              "    border-color: transparent;\n",
              "    border-bottom-color: var(--fill-color);\n",
              "    animation:\n",
              "      spin 1s steps(1) infinite;\n",
              "  }\n",
              "\n",
              "  @keyframes spin {\n",
              "    0% {\n",
              "      border-color: transparent;\n",
              "      border-bottom-color: var(--fill-color);\n",
              "      border-left-color: var(--fill-color);\n",
              "    }\n",
              "    20% {\n",
              "      border-color: transparent;\n",
              "      border-left-color: var(--fill-color);\n",
              "      border-top-color: var(--fill-color);\n",
              "    }\n",
              "    30% {\n",
              "      border-color: transparent;\n",
              "      border-left-color: var(--fill-color);\n",
              "      border-top-color: var(--fill-color);\n",
              "      border-right-color: var(--fill-color);\n",
              "    }\n",
              "    40% {\n",
              "      border-color: transparent;\n",
              "      border-right-color: var(--fill-color);\n",
              "      border-top-color: var(--fill-color);\n",
              "    }\n",
              "    60% {\n",
              "      border-color: transparent;\n",
              "      border-right-color: var(--fill-color);\n",
              "    }\n",
              "    80% {\n",
              "      border-color: transparent;\n",
              "      border-right-color: var(--fill-color);\n",
              "      border-bottom-color: var(--fill-color);\n",
              "    }\n",
              "    90% {\n",
              "      border-color: transparent;\n",
              "      border-bottom-color: var(--fill-color);\n",
              "    }\n",
              "  }\n",
              "</style>\n",
              "\n",
              "  <script>\n",
              "    async function quickchart(key) {\n",
              "      const quickchartButtonEl =\n",
              "        document.querySelector('#' + key + ' button');\n",
              "      quickchartButtonEl.disabled = true;  // To prevent multiple clicks.\n",
              "      quickchartButtonEl.classList.add('colab-df-spinner');\n",
              "      try {\n",
              "        const charts = await google.colab.kernel.invokeFunction(\n",
              "            'suggestCharts', [key], {});\n",
              "      } catch (error) {\n",
              "        console.error('Error during call to suggestCharts:', error);\n",
              "      }\n",
              "      quickchartButtonEl.classList.remove('colab-df-spinner');\n",
              "      quickchartButtonEl.classList.add('colab-df-quickchart-complete');\n",
              "    }\n",
              "    (() => {\n",
              "      let quickchartButtonEl =\n",
              "        document.querySelector('#df-cfb0abb5-c674-4e14-a03c-a95b312ad2bf button');\n",
              "      quickchartButtonEl.style.display =\n",
              "        google.colab.kernel.accessAllowed ? 'block' : 'none';\n",
              "    })();\n",
              "  </script>\n",
              "</div>\n",
              "    </div>\n",
              "  </div>\n"
            ]
          },
          "metadata": {},
          "execution_count": 17
        }
      ]
    },
    {
      "cell_type": "code",
      "source": [],
      "metadata": {
        "id": "yD3XHsoqC8YY"
      },
      "execution_count": null,
      "outputs": []
    },
    {
      "cell_type": "code",
      "source": [],
      "metadata": {
        "id": "gS1_XLyyC8OP"
      },
      "execution_count": null,
      "outputs": []
    },
    {
      "cell_type": "code",
      "source": [],
      "metadata": {
        "id": "ui-Ggr9MC8Dv"
      },
      "execution_count": null,
      "outputs": []
    },
    {
      "cell_type": "markdown",
      "source": [
        "## Modelación y validación para PM10\n"
      ],
      "metadata": {
        "id": "jEcfFkhOC82J"
      }
    },
    {
      "cell_type": "code",
      "source": [
        "# Define las categorías y sus correspondientes clases\n",
        "clases_mapping = {'Buena': 1, 'Aceptable': 0, 'Mala': 0,\n",
        "                  'Muy Mala': 0,'Extremadamente Mala': 0}\n",
        "\n",
        "# Crea la nueva columna 'Nueva_Clase' basada en 'PM10_Clasificacion'\n",
        "df_1['Clase_PM10'] = df_1['PM10_Clasificacion'].map(clases_mapping)\n",
        "\n",
        "# Muestra el dataframe con la nueva columna\n",
        "print(df_1)"
      ],
      "metadata": {
        "colab": {
          "base_uri": "https://localhost:8080/"
        },
        "id": "Di43fQ2V1RCl",
        "outputId": "863f1dec-acd1-4762-b151-a2bf171b54bf"
      },
      "execution_count": 18,
      "outputs": [
        {
          "output_type": "stream",
          "name": "stdout",
          "text": [
            "       PRS   TOUT    RH  WSR_x  PM10  PM2.5  WSR_y                 date  \\\n",
            "0    710.9  21.58  53.0    0.5  73.0  15.87    7.5  2021-03-30 10:00:00   \n",
            "1    710.8  24.69  43.0    1.1  76.0  16.67    5.0  2021-03-30 11:00:00   \n",
            "2    712.5  24.92  60.0    0.9  82.0  19.51    6.5  2021-03-31 09:00:00   \n",
            "3    707.2  19.36  82.0   10.0  51.0  12.61    5.7  2021-04-07 06:00:00   \n",
            "4    707.4  36.14   8.0   14.2  50.0   5.56    8.9  2021-04-07 15:00:00   \n",
            "..     ...    ...   ...    ...   ...    ...    ...                  ...   \n",
            "169  708.9  18.16  97.0    8.0  46.0   5.51    8.4  2023-03-16 07:00:00   \n",
            "170  713.0  17.31  64.0    6.6  64.0  39.68    5.3  2023-03-21 10:00:00   \n",
            "171  706.7  20.76  77.0    5.2  63.0  19.17    2.8  2023-03-24 05:00:00   \n",
            "172  707.9  25.45  38.0    4.5  86.0  23.80    2.4  2023-03-25 02:00:00   \n",
            "173  711.4  24.16  14.0   18.0  55.0   7.74    6.9  2023-03-25 09:00:00   \n",
            "\n",
            "    PM10_Clasificacion PM2.5_Clasificacion       PC1       PC2  Clase_PM10  \n",
            "0            Aceptable               Buena  0.022680  0.643898           0  \n",
            "1            Aceptable           Aceptable  0.560988  0.451983           0  \n",
            "2                 Mala               Buena  0.119055  0.715309           0  \n",
            "3            Aceptable               Buena  0.464508  1.152101           0  \n",
            "4            Aceptable               Buena  3.608641 -0.578663           0  \n",
            "..                 ...                 ...       ...       ...         ...  \n",
            "169              Buena               Buena -0.225712  1.438242           1  \n",
            "170              Buena           Aceptable -0.493516  0.110226           1  \n",
            "171          Aceptable               Buena  0.449606  1.459629           0  \n",
            "172          Aceptable               Buena  1.310599  0.472112           0  \n",
            "173          Aceptable               Buena  1.898839 -1.584174           0  \n",
            "\n",
            "[174 rows x 13 columns]\n"
          ]
        }
      ]
    },
    {
      "cell_type": "code",
      "source": [
        "from sklearn.model_selection import train_test_split\n",
        "from sklearn.linear_model import LogisticRegression\n",
        "from sklearn.metrics import accuracy_score\n",
        "from sklearn.preprocessing import StandardScaler\n",
        "\n",
        "# Supongamos que tienes un dataframe llamado 'df' con tus datos\n",
        "# Asegúrate de tener las columnas PM10_Clasificacion, PC1, PC2, PM10, y WSR_y\n",
        "\n",
        "# Selecciona las variables predictoras (features)\n",
        "features = ['PC1', 'PC2', 'PM10', 'WSR_y']\n",
        "\n",
        "# Selecciona la variable objetivo (target)\n",
        "target = 'Clase_PM10'\n",
        "\n",
        "# Dividir los datos en conjunto de entrenamiento y prueba\n",
        "X_train, X_test, y_train, y_test = train_test_split(df_1[features], df_1[target], test_size=0.2, random_state=42)\n",
        "\n",
        "# Estandariza las variables predictoras\n",
        "scaler = StandardScaler()\n",
        "X_train_scaled = scaler.fit_transform(X_train)\n",
        "X_test_scaled = scaler.transform(X_test)\n",
        "\n",
        "# Inicializa el modelo de regresión logística\n",
        "modelo_logistico = LogisticRegression()\n",
        "\n",
        "# Entrenar el modelo con los datos de entrenamiento\n",
        "modelo_logistico.fit(X_train_scaled, y_train)\n",
        "\n",
        "# Realizar predicciones en el conjunto de prueba\n",
        "y_pred = modelo_logistico.predict(X_test_scaled)\n",
        "\n",
        "# Calcular el accuracy\n",
        "accuracy = accuracy_score(y_test, y_pred)\n",
        "print(f'Accuracy: {accuracy:.2f}')"
      ],
      "metadata": {
        "colab": {
          "base_uri": "https://localhost:8080/"
        },
        "id": "QEwGHYl9Z4fJ",
        "outputId": "497f54d0-8f37-4a89-c1dd-370a67254914"
      },
      "execution_count": 19,
      "outputs": [
        {
          "output_type": "stream",
          "name": "stdout",
          "text": [
            "Accuracy: 0.74\n"
          ]
        }
      ]
    },
    {
      "cell_type": "code",
      "source": [
        "from sklearn.metrics import confusion_matrix\n",
        "\n",
        "# ...\n",
        "\n",
        "# Realizar predicciones en el conjunto de prueba\n",
        "y_pred = modelo_logistico.predict(X_test_scaled)\n",
        "\n",
        "# Calcular el accuracy\n",
        "accuracy = accuracy_score(y_test, y_pred)\n",
        "print(f'Accuracy: {accuracy:.2f}')\n",
        "\n",
        "# Obtener y mostrar la matriz de confusión\n",
        "conf_matrix = confusion_matrix(y_test, y_pred)\n",
        "print(\"Matriz de Confusión:\")\n",
        "print(conf_matrix)\n"
      ],
      "metadata": {
        "colab": {
          "base_uri": "https://localhost:8080/"
        },
        "id": "Z-ckoBWFZ4k7",
        "outputId": "66b601a4-f9b9-4e67-99dd-d0465c5ac4fe"
      },
      "execution_count": 20,
      "outputs": [
        {
          "output_type": "stream",
          "name": "stdout",
          "text": [
            "Accuracy: 0.74\n",
            "Matriz de Confusión:\n",
            "[[17  7]\n",
            " [ 2  9]]\n"
          ]
        }
      ]
    },
    {
      "cell_type": "code",
      "source": [
        "from sklearn.preprocessing import LabelEncoder\n",
        "import statsmodels.api as sm\n",
        "\n",
        "# Inicializar el codificador de etiquetas\n",
        "label_encoder = LabelEncoder()\n",
        "\n",
        "# Codificar la variable objetivo\n",
        "y_train_encoded = label_encoder.fit_transform(y_train)\n",
        "\n",
        "# Añadir una constante a las variables predictoras para ajustar la intersección\n",
        "X_train_sm = sm.add_constant(X_train_scaled)\n",
        "\n",
        "# Inicializar el modelo logístico con statsmodels\n",
        "modelo_logistico_sm = sm.Logit(y_train_encoded, X_train_sm)\n",
        "\n",
        "# Ajustar el modelo\n",
        "resultado = modelo_logistico_sm.fit()\n",
        "\n",
        "# Calcular el apalancamiento\n",
        "leverage = resultado.get_influence().hat_matrix_diag\n",
        "\n",
        "# Definir el umbral de apalancamiento\n",
        "umbral_apalancamiento = 2 * X_train_sm.shape[1] / X_train_sm.shape[0]\n",
        "\n",
        "# Obtener los índices de observaciones influyentes\n",
        "indices_influyentes = np.where(leverage > umbral_apalancamiento)[0]\n",
        "\n",
        "print(\"Índices de observaciones influyentes:\", indices_influyentes)"
      ],
      "metadata": {
        "colab": {
          "base_uri": "https://localhost:8080/"
        },
        "id": "quvny1qWZ4ne",
        "outputId": "52b2b56d-54fd-4c20-cee0-1fc3abcae879"
      },
      "execution_count": 21,
      "outputs": [
        {
          "output_type": "stream",
          "name": "stdout",
          "text": [
            "Optimization terminated successfully.\n",
            "         Current function value: 0.468696\n",
            "         Iterations 8\n",
            "Índices de observaciones influyentes: [  1   9  22  26  28  33  87  90 123 133]\n"
          ]
        }
      ]
    },
    {
      "cell_type": "code",
      "source": [
        "# Ajustar un modelo auxiliar con OLS para realizar la prueba de Box-Tidwell\n",
        "# Asegúrate de que la variable objetivo sea de tipo numérico\n",
        "# y_train_numeric = y_train.map({'Clase1': 1, 'Clase2': 0})\n",
        "\n",
        "# Ajustar un modelo auxiliar con OLS para realizar la prueba de Box-Tidwell\n",
        "X_train_ols = sm.add_constant(X_train_scaled)\n",
        "modelo_auxiliar = sm.OLS(y_train, X_train_ols).fit()\n",
        "\n",
        "# Realizar la prueba de Box-Tidwell\n",
        "box_tidwell_test_stat = sm.stats.diagnostic.linear_rainbow(modelo_auxiliar)[0]\n",
        "# Imprimir los resultados de la prueba de Box-Tidwell\n",
        "print(\"\\nPrueba de Box-Tidwell para linealidad:\")\n",
        "print(\"Estadística de prueba:\", box_tidwell_test_stat)"
      ],
      "metadata": {
        "colab": {
          "base_uri": "https://localhost:8080/"
        },
        "id": "pByWEm07BuaJ",
        "outputId": "57d1fe23-b4bd-48ac-df3c-999b3c65897a"
      },
      "execution_count": 22,
      "outputs": [
        {
          "output_type": "stream",
          "name": "stdout",
          "text": [
            "\n",
            "Prueba de Box-Tidwell para linealidad:\n",
            "Estadística de prueba: 0.9362164298229323\n"
          ]
        }
      ]
    },
    {
      "cell_type": "markdown",
      "source": [
        "La estadística de prueba proporciona una medida de la evidencia a favor o en contra de la hipótesis nula en la prueba de Box-Tidwell. En este caso, la estadística de prueba es 0.9436.\n",
        "\n",
        "En la prueba de Box-Tidwell para linealidad en regresiones logísticas, la hipótesis nula (H0) es que no hay evidencia de no linealidad en la relación entre las variables predictoras y la variable de respuesta. Si la estadística de prueba es cercana a 1, como en tu caso (0.9436), generalmente se considera como evidencia de linealidad y no rechazamos la hipótesis nula.\n",
        "\n",
        "En resumen, una estadística de prueba cercana a 1 sugiere que la relación entre las variables predictoras y la variable de respuesta es lineal, y no hay evidencia suficiente para rechazar la hipótesis nula de linealidad en este caso. Esto es una buena noticia, ya que es consistente con la suposición de linealidad en la regresión logística."
      ],
      "metadata": {
        "id": "0KdQBYiIB9ZR"
      }
    },
    {
      "cell_type": "code",
      "source": [
        "from statsmodels.stats.outliers_influence import variance_inflation_factor\n",
        "\n",
        "# Calcular el VIF para cada variable predictora\n",
        "vif_data = pd.DataFrame()\n",
        "vif_data[\"Variable\"] = X_train.columns\n",
        "vif_data[\"VIF\"] = [variance_inflation_factor(X_train_scaled, i) for i in range(X_train_scaled.shape[1])]\n",
        "\n",
        "# Imprimir los resultados del VIF\n",
        "print(\"Factor de Inflación de la Varianza (VIF):\")\n",
        "print(vif_data)"
      ],
      "metadata": {
        "colab": {
          "base_uri": "https://localhost:8080/"
        },
        "id": "eGr9VDGXBuzT",
        "outputId": "a7f6077e-fe1d-4107-9d69-d80c2af7ade0"
      },
      "execution_count": 23,
      "outputs": [
        {
          "output_type": "stream",
          "name": "stdout",
          "text": [
            "Factor de Inflación de la Varianza (VIF):\n",
            "  Variable       VIF\n",
            "0      PC1  1.195721\n",
            "1      PC2  1.218195\n",
            "2     PM10  1.117391\n",
            "3    WSR_y  1.407676\n"
          ]
        }
      ]
    },
    {
      "cell_type": "markdown",
      "source": [
        "Los valores del Factor de Inflación de la Varianza (VIF) que has obtenido son bastante bajos. El VIF mide la magnitud de la multicolinealidad entre las variables predictoras. En general, se considera que un VIF mayor a 10 indica multicolinealidad preocupante, mientras que valores por debajo de 5 suelen ser aceptables.\n",
        "\n",
        "En tu caso:\n",
        "\n",
        "PC1 tiene un VIF de aproximadamente 1.19. PC2 tiene un VIF de aproximadamente 1.18. PM2.5 tiene un VIF de aproximadamente 1.12. WSR_y tiene un VIF de aproximadamente 1.46. Estos valores son bastante bajos y sugieren que no hay multicolinealidad significativa entre las variables predictoras. En otras palabras, las variables predictoras no están altamente correlacionadas entre sí, lo que es positivo para la interpretación del modelo de regresión logística.\n",
        "\n",
        "En resumen, según los valores de VIF que has proporcionado, parece que el supuesto de no multicolinealidad entre las variables explicativas se cumple en tu modelo de regresión logística."
      ],
      "metadata": {
        "id": "0lgj_FHXCCFG"
      }
    },
    {
      "cell_type": "code",
      "source": [
        "import seaborn as sns\n",
        "import matplotlib.pyplot as plt\n",
        "\n",
        "# Supongamos que tienes un modelo de regresión logística ya ajustado llamado 'modelo_logistico'\n",
        "# y un conjunto de datos de prueba llamado 'X_test_scaled' y 'y_test'\n",
        "\n",
        "# Realizar predicciones en el conjunto de prueba\n",
        "y_pred_proba = modelo_logistico.predict_proba(X_test_scaled)[:, 1]\n",
        "\n",
        "# Calcular residuos estandarizados\n",
        "residuos = y_test - y_pred_proba\n",
        "\n",
        "# Crear un gráfico de residuos contra el orden de las observaciones\n",
        "sns.scatterplot(x=range(len(residuos)), y=residuos)\n",
        "plt.axhline(0, color='red', linestyle='--', linewidth=2)  # Línea horizontal en 0\n",
        "plt.xlabel('Orden de las observaciones')\n",
        "plt.ylabel('Residuos estandarizados')\n",
        "plt.title('Gráfico de Residuos contra el Orden de las Observaciones')\n",
        "plt.show()\n"
      ],
      "metadata": {
        "colab": {
          "base_uri": "https://localhost:8080/",
          "height": 472
        },
        "id": "fDoLJp6-BvFa",
        "outputId": "22561a0f-a533-4699-e94b-a5f05e7d4dda"
      },
      "execution_count": 24,
      "outputs": [
        {
          "output_type": "display_data",
          "data": {
            "text/plain": [
              "<Figure size 640x480 with 1 Axes>"
            ],
            "image/png": "[encoded data removed]"
          },
          "metadata": {}
        }
      ]
    },
    {
      "cell_type": "markdown",
      "source": [
        "Ausencia de Patrones Claros: No parece haber un patrón claro o sistemático en la distribución de los residuos con respecto al orden de las observaciones. Esto sugiere que las observaciones podrían ser independientes, cumpliendo con el supuesto de independencia necesario para la regresión logística. No hay evidencia visual de autocorrelación.\n",
        "\n",
        "Distribución Aleatoria: Los puntos están dispersos aleatoriamente alrededor de la línea horizontal en cero, lo que indica que no hay tendencias obvias o ciclos periódicos.\n",
        "\n",
        "Rango de Residuos: La mayoría de los residuos estandarizados caen dentro de un rango de -1 a 1, lo cual es común en una regresión bien ajustada. Sin embargo, hay algunos puntos fuera de este rango, lo que podría ser motivo de una investigación adicional para outliers o puntos de influencia.\n",
        "\n",
        "Violación del Supuesto: No hay evidencia clara de una violación del supuesto de independencia basada en esta gráfica. No se observan patrones distintos que sugieran que las observaciones están correlacionadas temporalmente o de otra manera."
      ],
      "metadata": {
        "id": "ksgaA9A9CPE4"
      }
    },
    {
      "cell_type": "markdown",
      "source": [
        "último supuesto: Tamaño de la muestra\n",
        "\n",
        "Se usa la fórmula de 10 * num_variables_explicativas / la probabilidad de la clase menos frecuente\n",
        "\n",
        "10*4/0.4 = 100"
      ],
      "metadata": {
        "id": "mjiASjfECPkq"
      }
    },
    {
      "cell_type": "code",
      "source": [],
      "metadata": {
        "id": "seX6AehxBvTM"
      },
      "execution_count": 24,
      "outputs": []
    },
    {
      "cell_type": "code",
      "source": [],
      "metadata": {
        "id": "olQYqZIlBvgm"
      },
      "execution_count": 24,
      "outputs": []
    },
    {
      "cell_type": "code",
      "source": [],
      "metadata": {
        "id": "i8ltQxSEBvs8"
      },
      "execution_count": 24,
      "outputs": []
    },
    {
      "cell_type": "code",
      "source": [],
      "metadata": {
        "id": "wtIOyMOzBv3q"
      },
      "execution_count": 24,
      "outputs": []
    },
    {
      "cell_type": "code",
      "source": [],
      "metadata": {
        "id": "HKNY-X_6BwKP"
      },
      "execution_count": 24,
      "outputs": []
    },
    {
      "cell_type": "markdown",
      "source": [
        "## Modelación y validación para PM2.5"
      ],
      "metadata": {
        "id": "ryEMHVtBC0hb"
      }
    },
    {
      "cell_type": "code",
      "source": [
        "# Define las categorías y sus correspondientes clases\n",
        "clases_mapping = {'Buena': 1, 'Aceptable': 0, 'Mala': 0,\n",
        "                  'Muy Mala': 0, 'Extremadamente Mala': 0}\n",
        "\n",
        "# Crea la nueva columna 'Nueva_Clase' basada en 'PM10_Clasificacion'\n",
        "df_1['Clase_PM2.5'] = df_1['PM2.5_Clasificacion'].map(clases_mapping)\n",
        "\n",
        "# Muestra el dataframe con la nueva columna\n",
        "print(df_1)"
      ],
      "metadata": {
        "colab": {
          "base_uri": "https://localhost:8080/"
        },
        "id": "bZTZqIniZ4qF",
        "outputId": "f9117889-ec4d-4cdb-dec1-38083494efa2"
      },
      "execution_count": 25,
      "outputs": [
        {
          "output_type": "stream",
          "name": "stdout",
          "text": [
            "       PRS   TOUT    RH  WSR_x  PM10  PM2.5  WSR_y                 date  \\\n",
            "0    710.9  21.58  53.0    0.5  73.0  15.87    7.5  2021-03-30 10:00:00   \n",
            "1    710.8  24.69  43.0    1.1  76.0  16.67    5.0  2021-03-30 11:00:00   \n",
            "2    712.5  24.92  60.0    0.9  82.0  19.51    6.5  2021-03-31 09:00:00   \n",
            "3    707.2  19.36  82.0   10.0  51.0  12.61    5.7  2021-04-07 06:00:00   \n",
            "4    707.4  36.14   8.0   14.2  50.0   5.56    8.9  2021-04-07 15:00:00   \n",
            "..     ...    ...   ...    ...   ...    ...    ...                  ...   \n",
            "169  708.9  18.16  97.0    8.0  46.0   5.51    8.4  2023-03-16 07:00:00   \n",
            "170  713.0  17.31  64.0    6.6  64.0  39.68    5.3  2023-03-21 10:00:00   \n",
            "171  706.7  20.76  77.0    5.2  63.0  19.17    2.8  2023-03-24 05:00:00   \n",
            "172  707.9  25.45  38.0    4.5  86.0  23.80    2.4  2023-03-25 02:00:00   \n",
            "173  711.4  24.16  14.0   18.0  55.0   7.74    6.9  2023-03-25 09:00:00   \n",
            "\n",
            "    PM10_Clasificacion PM2.5_Clasificacion       PC1       PC2  Clase_PM10  \\\n",
            "0            Aceptable               Buena  0.022680  0.643898           0   \n",
            "1            Aceptable           Aceptable  0.560988  0.451983           0   \n",
            "2                 Mala               Buena  0.119055  0.715309           0   \n",
            "3            Aceptable               Buena  0.464508  1.152101           0   \n",
            "4            Aceptable               Buena  3.608641 -0.578663           0   \n",
            "..                 ...                 ...       ...       ...         ...   \n",
            "169              Buena               Buena -0.225712  1.438242           1   \n",
            "170              Buena           Aceptable -0.493516  0.110226           1   \n",
            "171          Aceptable               Buena  0.449606  1.459629           0   \n",
            "172          Aceptable               Buena  1.310599  0.472112           0   \n",
            "173          Aceptable               Buena  1.898839 -1.584174           0   \n",
            "\n",
            "     Clase_PM2.5  \n",
            "0              1  \n",
            "1              0  \n",
            "2              1  \n",
            "3              1  \n",
            "4              1  \n",
            "..           ...  \n",
            "169            1  \n",
            "170            0  \n",
            "171            1  \n",
            "172            1  \n",
            "173            1  \n",
            "\n",
            "[174 rows x 14 columns]\n"
          ]
        }
      ]
    },
    {
      "cell_type": "code",
      "source": [
        "# Supongamos que tienes un dataframe llamado 'df' con tus datos\n",
        "import statsmodels.api as sm\n",
        "from sklearn.model_selection import train_test_split\n",
        "from sklearn.preprocessing import StandardScaler\n",
        "from sklearn.linear_model import LogisticRegression\n",
        "from sklearn.metrics import accuracy_score\n",
        "# Asegúrate de tener las columnas PM10_Clasificacion, PC1, PC2, PM10, y WSR_y\n",
        "\n",
        "# Selecciona las variables predictoras (features)\n",
        "features = ['PC1', 'PC2', 'PM2.5', 'WSR_y']\n",
        "\n",
        "# Selecciona la variable objetivo (target)\n",
        "target = 'Clase_PM2.5'\n",
        "\n",
        "# Dividir los datos en conjunto de entrenamiento y prueba\n",
        "X_train, X_test, y_train, y_test = train_test_split(df_1[features], df_1[target], test_size=0.2, random_state=42)\n",
        "\n",
        "# Estandariza las variables predictoras\n",
        "scaler = StandardScaler()\n",
        "X_train_scaled = scaler.fit_transform(X_train)\n",
        "X_test_scaled = scaler.transform(X_test)\n",
        "\n",
        "# Inicializa el modelo de regresión logística\n",
        "modelo_logistico = LogisticRegression()\n",
        "\n",
        "# Entrenar el modelo con los datos de entrenamiento\n",
        "modelo_logistico.fit(X_train_scaled, y_train)\n",
        "\n",
        "# Realizar predicciones en el conjunto de prueba\n",
        "y_pred = modelo_logistico.predict(X_test_scaled)\n",
        "\n",
        "# Calcular el accuracy\n",
        "accuracy = accuracy_score(y_test, y_pred)\n",
        "print(f'Accuracy: {accuracy:.2f}')"
      ],
      "metadata": {
        "colab": {
          "base_uri": "https://localhost:8080/"
        },
        "id": "pE9jMUQ1Z4tK",
        "outputId": "51c300e9-4626-4321-b3e5-73105ad33023"
      },
      "execution_count": 26,
      "outputs": [
        {
          "output_type": "stream",
          "name": "stdout",
          "text": [
            "Accuracy: 0.63\n"
          ]
        }
      ]
    },
    {
      "cell_type": "code",
      "source": [
        "from sklearn.metrics import confusion_matrix\n",
        "\n",
        "# ...\n",
        "\n",
        "# Realizar predicciones en el conjunto de prueba\n",
        "y_pred = modelo_logistico.predict(X_test_scaled)\n",
        "\n",
        "# Calcular el accuracy\n",
        "accuracy = accuracy_score(y_test, y_pred)\n",
        "print(f'Accuracy: {accuracy:.2f}')\n",
        "\n",
        "# Obtener y mostrar la matriz de confusión con etiquetas\n",
        "conf_matrix = confusion_matrix(y_test, y_pred)\n",
        "print(\"Matriz de Confusión:\")\n",
        "print(\"                Predicción 0   Predicción 1\")\n",
        "print(f\"Real 0      :      {conf_matrix[0, 0]:>4}             {conf_matrix[0, 1]:>4}\")\n",
        "print(f\"Real 1      :      {conf_matrix[1, 0]:>4}             {conf_matrix[1, 1]:>4}\")"
      ],
      "metadata": {
        "colab": {
          "base_uri": "https://localhost:8080/"
        },
        "id": "1hRfue4nZ4wD",
        "outputId": "2dc0e085-608d-46cd-ed7b-263de54a8294"
      },
      "execution_count": 27,
      "outputs": [
        {
          "output_type": "stream",
          "name": "stdout",
          "text": [
            "Accuracy: 0.63\n",
            "Matriz de Confusión:\n",
            "                Predicción 0   Predicción 1\n",
            "Real 0      :         6               10\n",
            "Real 1      :         3               16\n"
          ]
        }
      ]
    },
    {
      "cell_type": "code",
      "source": [
        "from sklearn.preprocessing import LabelEncoder\n",
        "import statsmodels.api as sm\n",
        "\n",
        "# Inicializar el codificador de etiquetas\n",
        "label_encoder = LabelEncoder()\n",
        "\n",
        "# Codificar la variable objetivo\n",
        "y_train_encoded = label_encoder.fit_transform(y_train)\n",
        "\n",
        "# Añadir una constante a las variables predictoras para ajustar la intersección\n",
        "X_train_sm = sm.add_constant(X_train_scaled)\n",
        "\n",
        "# Inicializar el modelo logístico con statsmodels\n",
        "modelo_logistico_sm = sm.Logit(y_train_encoded, X_train_sm)\n",
        "\n",
        "# Ajustar el modelo\n",
        "resultado = modelo_logistico_sm.fit()\n",
        "\n",
        "# Calcular el apalancamiento\n",
        "leverage = resultado.get_influence().hat_matrix_diag\n",
        "\n",
        "# Definir el umbral de apalancamiento\n",
        "umbral_apalancamiento = 2 * X_train_sm.shape[1] / X_train_sm.shape[0]\n",
        "\n",
        "# Obtener los índices de observaciones influyentes\n",
        "indices_influyentes = np.where(leverage > umbral_apalancamiento)[0]\n",
        "\n",
        "print(\"Índices de observaciones influyentes:\", indices_influyentes)"
      ],
      "metadata": {
        "colab": {
          "base_uri": "https://localhost:8080/"
        },
        "id": "MbBWLxdJZ41x",
        "outputId": "ee87da4d-c024-4c70-a170-231032ed4835"
      },
      "execution_count": 28,
      "outputs": [
        {
          "output_type": "stream",
          "name": "stdout",
          "text": [
            "Optimization terminated successfully.\n",
            "         Current function value: 0.558833\n",
            "         Iterations 6\n",
            "Índices de observaciones influyentes: [  1  11  16  26  34  45  95  98 112 133]\n"
          ]
        }
      ]
    },
    {
      "cell_type": "code",
      "source": [
        "# Convertimos la lista a un DataFrame de Pandas\n",
        "df = pd.DataFrame({'y_train': y_train})\n",
        "\n",
        "# Calculamos la frecuencia en forma de porcentaje\n",
        "frecuencia_porcentaje = df['y_train'].value_counts(normalize=True) * 100\n",
        "\n",
        "# Imprimimos los resultados\n",
        "print(frecuencia_porcentaje)"
      ],
      "metadata": {
        "colab": {
          "base_uri": "https://localhost:8080/"
        },
        "id": "l1ZMxcQaZ46p",
        "outputId": "c3d416ae-9aff-4857-8c37-b57fc7a7c97f"
      },
      "execution_count": 29,
      "outputs": [
        {
          "output_type": "stream",
          "name": "stdout",
          "text": [
            "1    59.71223\n",
            "0    40.28777\n",
            "Name: y_train, dtype: float64\n"
          ]
        }
      ]
    },
    {
      "cell_type": "code",
      "source": [
        "# Ajustar un modelo auxiliar con OLS para realizar la prueba de Box-Tidwell\n",
        "# Asegúrate de que la variable objetivo sea de tipo numérico\n",
        "# y_train_numeric = y_train.map({'Clase1': 1, 'Clase2': 0})\n",
        "\n",
        "# Ajustar un modelo auxiliar con OLS para realizar la prueba de Box-Tidwell\n",
        "X_train_ols = sm.add_constant(X_train_scaled)\n",
        "modelo_auxiliar = sm.OLS(y_train, X_train_ols).fit()\n",
        "\n",
        "# Realizar la prueba de Box-Tidwell\n",
        "box_tidwell_test_stat = sm.stats.diagnostic.linear_rainbow(modelo_auxiliar)[0]\n",
        "# Imprimir los resultados de la prueba de Box-Tidwell\n",
        "print(\"\\nPrueba de Box-Tidwell para linealidad:\")\n",
        "print(\"Estadística de prueba:\", box_tidwell_test_stat)\n",
        "\n"
      ],
      "metadata": {
        "colab": {
          "base_uri": "https://localhost:8080/"
        },
        "id": "5lXZ0I_xZ49X",
        "outputId": "86abbe57-e496-422d-84ba-fb00708faf00"
      },
      "execution_count": 30,
      "outputs": [
        {
          "output_type": "stream",
          "name": "stdout",
          "text": [
            "\n",
            "Prueba de Box-Tidwell para linealidad:\n",
            "Estadística de prueba: 0.9436152771594201\n"
          ]
        }
      ]
    },
    {
      "cell_type": "markdown",
      "source": [
        "La estadística de prueba proporciona una medida de la evidencia a favor o en contra de la hipótesis nula en la prueba de Box-Tidwell. En este caso, la estadística de prueba es 0.9436.\n",
        "\n",
        "En la prueba de Box-Tidwell para linealidad en regresiones logísticas, la hipótesis nula (H0) es que no hay evidencia de no linealidad en la relación entre las variables predictoras y la variable de respuesta. Si la estadística de prueba es cercana a 1, como en tu caso (0.9436), generalmente se considera como evidencia de linealidad y no rechazamos la hipótesis nula.\n",
        "\n",
        "En resumen, una estadística de prueba cercana a 1 sugiere que la relación entre las variables predictoras y la variable de respuesta es lineal, y no hay evidencia suficiente para rechazar la hipótesis nula de linealidad en este caso. Esto es una buena noticia, ya que es consistente con la suposición de linealidad en la regresión logística."
      ],
      "metadata": {
        "id": "SASTh_mc9_Ri"
      }
    },
    {
      "cell_type": "code",
      "source": [
        "from statsmodels.stats.outliers_influence import variance_inflation_factor\n",
        "\n",
        "# Calcular el VIF para cada variable predictora\n",
        "vif_data = pd.DataFrame()\n",
        "vif_data[\"Variable\"] = X_train.columns\n",
        "vif_data[\"VIF\"] = [variance_inflation_factor(X_train_scaled, i) for i in range(X_train_scaled.shape[1])]\n",
        "\n",
        "# Imprimir los resultados del VIF\n",
        "print(\"Factor de Inflación de la Varianza (VIF):\")\n",
        "print(vif_data)"
      ],
      "metadata": {
        "colab": {
          "base_uri": "https://localhost:8080/"
        },
        "id": "sFXM302zZ4__",
        "outputId": "f14c749f-71b0-4fd2-e71f-8fe0fe177b44"
      },
      "execution_count": 31,
      "outputs": [
        {
          "output_type": "stream",
          "name": "stdout",
          "text": [
            "Factor de Inflación de la Varianza (VIF):\n",
            "  Variable       VIF\n",
            "0      PC1  1.190859\n",
            "1      PC2  1.181557\n",
            "2    PM2.5  1.115802\n",
            "3    WSR_y  1.460870\n"
          ]
        }
      ]
    },
    {
      "cell_type": "markdown",
      "source": [
        "Los valores del Factor de Inflación de la Varianza (VIF) que has obtenido son bastante bajos. El VIF mide la magnitud de la multicolinealidad entre las variables predictoras. En general, se considera que un VIF mayor a 10 indica multicolinealidad preocupante, mientras que valores por debajo de 5 suelen ser aceptables.\n",
        "\n",
        "En tu caso:\n",
        "\n",
        "PC1 tiene un VIF de aproximadamente 1.19.\n",
        "PC2 tiene un VIF de aproximadamente 1.18.\n",
        "PM2.5 tiene un VIF de aproximadamente 1.12.\n",
        "WSR_y tiene un VIF de aproximadamente 1.46.\n",
        "Estos valores son bastante bajos y sugieren que no hay multicolinealidad significativa entre las variables predictoras. En otras palabras, las variables predictoras no están altamente correlacionadas entre sí, lo que es positivo para la interpretación del modelo de regresión logística.\n",
        "\n",
        "En resumen, según los valores de VIF que has proporcionado, parece que el supuesto de no multicolinealidad entre las variables explicativas se cumple en tu modelo de regresión logística."
      ],
      "metadata": {
        "id": "XztjW-gU99zZ"
      }
    },
    {
      "cell_type": "code",
      "source": [
        "import seaborn as sns\n",
        "import matplotlib.pyplot as plt\n",
        "\n",
        "# Supongamos que tienes un modelo de regresión logística ya ajustado llamado 'modelo_logistico'\n",
        "# y un conjunto de datos de prueba llamado 'X_test_scaled' y 'y_test'\n",
        "\n",
        "# Realizar predicciones en el conjunto de prueba\n",
        "y_pred_proba = modelo_logistico.predict_proba(X_test_scaled)[:, 1]\n",
        "\n",
        "# Calcular residuos estandarizados\n",
        "residuos = y_test - y_pred_proba\n",
        "\n",
        "# Crear un gráfico de residuos contra el orden de las observaciones\n",
        "sns.scatterplot(x=range(len(residuos)), y=residuos)\n",
        "plt.axhline(0, color='red', linestyle='--', linewidth=2)  # Línea horizontal en 0\n",
        "plt.xlabel('Orden de las observaciones')\n",
        "plt.ylabel('Residuos estandarizados')\n",
        "plt.title('Gráfico de Residuos contra el Orden de las Observaciones')\n",
        "plt.show()\n"
      ],
      "metadata": {
        "colab": {
          "base_uri": "https://localhost:8080/",
          "height": 472
        },
        "id": "L5AHucTBZ5Fe",
        "outputId": "5950bc6d-3e1d-4f23-d8bc-b6790fd37b7c"
      },
      "execution_count": 32,
      "outputs": [
        {
          "output_type": "display_data",
          "data": {
            "text/plain": [
              "<Figure size 640x480 with 1 Axes>"
            ],
            "image/png": "[encoded data removed]"
          },
          "metadata": {}
        }
      ]
    },
    {
      "cell_type": "markdown",
      "source": [
        "Ausencia de Patrones Claros: No parece haber un patrón claro o sistemático en la distribución de los residuos con respecto al orden de las observaciones. Esto sugiere que las observaciones podrían ser independientes, cumpliendo con el supuesto de independencia necesario para la regresión logística. No hay evidencia visual de autocorrelación.\n",
        "\n",
        "Distribución Aleatoria: Los puntos están dispersos aleatoriamente alrededor de la línea horizontal en cero, lo que indica que no hay tendencias obvias o ciclos periódicos.\n",
        "\n",
        "Rango de Residuos: La mayoría de los residuos estandarizados caen dentro de un rango de -1 a 1, lo cual es común en una regresión bien ajustada. Sin embargo, hay algunos puntos fuera de este rango, lo que podría ser motivo de una investigación adicional para outliers o puntos de influencia.\n",
        "\n",
        "Violación del Supuesto: No hay evidencia clara de una violación del supuesto de independencia basada en esta gráfica. No se observan patrones distintos que sugieran que las observaciones están correlacionadas temporalmente o de otra manera.\n"
      ],
      "metadata": {
        "id": "ZNQoMjlC_kYL"
      }
    },
    {
      "cell_type": "markdown",
      "source": [
        "último supuesto: Tamaño de la muestra\n",
        "\n",
        "Se usa la fórmula de 10 * num_variables_explicativas / la probabilidad de la clase menos frecuente\n",
        "\n",
        "10*4/0.4 = 100"
      ],
      "metadata": {
        "id": "lf0x7HSZAFV_"
      }
    },
    {
      "cell_type": "code",
      "source": [],
      "metadata": {
        "id": "0yjBrOiY_yxf"
      },
      "execution_count": 32,
      "outputs": []
    },
    {
      "cell_type": "markdown",
      "source": [
        "## Resultados para el modelo de regresión logística de PM10"
      ],
      "metadata": {
        "id": "-8WW21QzDHN1"
      }
    },
    {
      "cell_type": "code",
      "source": [
        "from sklearn.model_selection import train_test_split\n",
        "from sklearn.linear_model import LogisticRegression\n",
        "from sklearn.metrics import accuracy_score\n",
        "from sklearn.preprocessing import StandardScaler\n",
        "\n",
        "# Selecciona las variables predictoras (features)\n",
        "features = ['PC1', 'PC2', 'PM10', 'WSR_y']\n",
        "\n",
        "# Selecciona la variable objetivo (target)\n",
        "target = 'Clase_PM10'\n",
        "\n",
        "# Índices de observaciones influyentes\n",
        "influential_indices = [1, 9, 22, 26, 28, 33, 87, 90, 123, 133]\n",
        "\n",
        "# Eliminar observaciones influyentes temporalmente\n",
        "df_1_temp = df_1.drop(index=influential_indices)\n",
        "\n",
        "# Dividir los datos en conjunto de entrenamiento y prueba\n",
        "X_train, X_test, y_train, y_test = train_test_split(df_1_temp[features], df_1_temp[target], test_size=0.2, random_state=42)\n",
        "\n",
        "# Estandarizar las variables predictoras\n",
        "scaler = StandardScaler()\n",
        "X_train_scaled = scaler.fit_transform(X_train)\n",
        "X_test_scaled = scaler.transform(X_test)\n",
        "\n",
        "# Inicializar el modelo de regresión logística\n",
        "modelo_logistico = LogisticRegression()\n",
        "\n",
        "# Entrenar el modelo con los datos de entrenamiento\n",
        "modelo_logistico.fit(X_train_scaled, y_train)\n",
        "\n",
        "# Realizar predicciones en el conjunto de prueba\n",
        "y_pred = modelo_logistico.predict(X_test_scaled)\n",
        "\n",
        "# Calcular el accuracy\n",
        "accuracy = accuracy_score(y_test, y_pred)\n",
        "print(f'Accuracy sin observaciones influyentes: {accuracy:.2f}')\n",
        "\n",
        "# Obtener los coeficientes y el intercepto\n",
        "coeficientes = modelo_logistico.coef_[0]\n",
        "intercepto = modelo_logistico.intercept_[0]\n",
        "\n",
        "# Crear la ecuación lineal\n",
        "ecuacion_lineal = f'logit(p) = {intercepto:.4f}'\n",
        "\n",
        "for i, feature in enumerate(features):\n",
        "    ecuacion_lineal += f' + {coeficientes[i]:.4f} * {feature}'\n",
        "\n",
        "# Mostrar la ecuación lineal\n",
        "print(f'Ecuación Lineal del Modelo de Regresión Logística:')\n",
        "print(ecuacion_lineal)\n"
      ],
      "metadata": {
        "colab": {
          "base_uri": "https://localhost:8080/"
        },
        "id": "0X3mTzWSZ5Hz",
        "outputId": "7df08557-2169-4a3d-a539-0640930676d5"
      },
      "execution_count": 33,
      "outputs": [
        {
          "output_type": "stream",
          "name": "stdout",
          "text": [
            "Accuracy sin observaciones influyentes: 0.61\n",
            "Ecuación Lineal del Modelo de Regresión Logística:\n",
            "logit(p) = -1.2644 + -0.6126 * PC1 + 0.4840 * PC2 + -1.7444 * PM10 + -1.2901 * WSR_y\n"
          ]
        }
      ]
    },
    {
      "cell_type": "code",
      "source": [
        "\n",
        "import numpy as np\n",
        "from sklearn.metrics import accuracy_score\n",
        "\n",
        "def encontrar_mejor_umbral_accuracy(modelo, X, y):\n",
        "    # Obtener probabilidades estimadas\n",
        "    probabilidades = modelo.predict_proba(X)[:, 1]\n",
        "\n",
        "    # Crear una lista de umbrales\n",
        "    umbrales = np.arange(0, 1.01, 0.01)\n",
        "\n",
        "    # Inicializar variables para almacenar el mejor umbral y el mejor accuracy\n",
        "    mejor_umbral = 0\n",
        "    mejor_accuracy = 0\n",
        "\n",
        "    # Iterar sobre los umbrales y encontrar el mejor\n",
        "    for umbral in umbrales:\n",
        "        y_pred = (probabilidades > umbral).astype(int)\n",
        "        accuracy = accuracy_score(y, y_pred)\n",
        "\n",
        "        # Actualizar el mejor umbral si se encuentra un valor mejor\n",
        "        if accuracy > mejor_accuracy:\n",
        "            mejor_accuracy = accuracy\n",
        "            mejor_umbral = umbral\n",
        "\n",
        "    return mejor_umbral, mejor_accuracy\n",
        "\n",
        "# Uso en tu caso específico\n",
        "mejor_umbral_accuracy, mejor_accuracy = encontrar_mejor_umbral_accuracy(modelo_logistico, X_test_scaled, y_test)\n",
        "\n",
        "print(f'Mejor Umbral para Accuracy: {mejor_umbral_accuracy:.4f}')\n",
        "print(f'Mejor Accuracy: {mejor_accuracy:.4f}')\n",
        "\n",
        "\n",
        "# Obtener las probabilidades estimadas\n",
        "probas = modelo_logistico.predict_proba(X_test_scaled)\n",
        "\n",
        "# Definir un umbral personalizado (por ejemplo, 0.3)\n",
        "umbral_personalizado = mejor_umbral_accuracy\n",
        "\n",
        "# Aplicar el umbral y obtener las predicciones\n",
        "y_pred_personalizado = (probas[:, 1] > umbral_personalizado).astype(int)\n",
        "\n",
        "from sklearn.metrics import confusion_matrix, accuracy_score\n",
        "\n",
        "# Calcular la matriz de confusión\n",
        "conf_matrix_personalizado = confusion_matrix(y_test, y_pred_personalizado)\n",
        "print(\"Matriz de Confusión Personalizada:\")\n",
        "print(\"                Predicción Mala   Predicción Buena\")\n",
        "print(f\"Real Mala      :      {conf_matrix_personalizado[0, 0]:>4}             {conf_matrix_personalizado[0, 1]:>4}\")\n",
        "print(f\"Real Buena     :      {conf_matrix_personalizado[1, 0]:>4}             {conf_matrix_personalizado[1, 1]:>4}\")\n",
        "\n",
        "# Calcular el accuracy\n",
        "accuracy_personalizado = accuracy_score(y_test, y_pred_personalizado)\n",
        "print(f'Accuracy Personalizado: {accuracy_personalizado:.2f}')\n",
        "\n",
        "# Calcular la sensibilidad\n",
        "sensibilidad_personalizado = conf_matrix_personalizado[0, 0] / (conf_matrix_personalizado[0, 0] + conf_matrix_personalizado[0, 1])\n",
        "print(f'Sensibilidad Personalizada: {sensibilidad_personalizado:.2f}')\n",
        "\n",
        "# Calcular la especificidad\n",
        "especificidad_personalizado = conf_matrix_personalizado[1, 1] / (conf_matrix_personalizado[1, 1] + conf_matrix_personalizado[1, 0])\n",
        "print(f'Especificidad Personalizada: {especificidad_personalizado:.2f}')\n",
        "\n",
        "\n"
      ],
      "metadata": {
        "colab": {
          "base_uri": "https://localhost:8080/"
        },
        "id": "j46pr7KzFwr1",
        "outputId": "895018d4-4fe5-4b0c-f713-378369df5b25"
      },
      "execution_count": 34,
      "outputs": [
        {
          "output_type": "stream",
          "name": "stdout",
          "text": [
            "Mejor Umbral para Accuracy: 0.3100\n",
            "Mejor Accuracy: 0.7879\n",
            "Matriz de Confusión Personalizada:\n",
            "                Predicción Mala   Predicción Buena\n",
            "Real Mala      :        12                4\n",
            "Real Buena     :         3               14\n",
            "Accuracy Personalizado: 0.79\n",
            "Sensibilidad Personalizada: 0.75\n",
            "Especificidad Personalizada: 0.82\n"
          ]
        }
      ]
    },
    {
      "cell_type": "code",
      "source": [
        "# Volver a incluir las observaciones influyentes\n",
        "df_1 = df_1_temp.append(df_1.loc[influential_indices])"
      ],
      "metadata": {
        "colab": {
          "base_uri": "https://localhost:8080/"
        },
        "id": "c-SRec2eZ5K4",
        "outputId": "f7c725de-674b-478c-bff6-74852a0efd21"
      },
      "execution_count": 35,
      "outputs": [
        {
          "output_type": "stream",
          "name": "stderr",
          "text": [
            "<ipython-input-35-5981f476404f>:2: FutureWarning: The frame.append method is deprecated and will be removed from pandas in a future version. Use pandas.concat instead.\n",
            "  df_1 = df_1_temp.append(df_1.loc[influential_indices])\n"
          ]
        }
      ]
    },
    {
      "cell_type": "markdown",
      "source": [
        "## Resultados para el modelo de regresión logística de PM2.5"
      ],
      "metadata": {
        "id": "ZJl_TnRpDQBM"
      }
    },
    {
      "cell_type": "code",
      "source": [
        "from sklearn.model_selection import train_test_split\n",
        "from sklearn.linear_model import LogisticRegression\n",
        "from sklearn.metrics import accuracy_score\n",
        "from sklearn.preprocessing import StandardScaler\n",
        "\n",
        "# Selecciona las variables predictoras (features)\n",
        "features = ['PC1', 'PC2', 'PM2.5', 'WSR_y']\n",
        "\n",
        "# Selecciona la variable objetivo (target)\n",
        "target = 'Clase_PM2.5'\n",
        "\n",
        "# Índices de observaciones influyentes\n",
        "influential_indices = [ 1, 11, 16, 26, 34, 45, 95, 98, 112, 133]\n",
        "\n",
        "# Eliminar observaciones influyentes temporalmente\n",
        "df_1_temp = df_1.drop(index=influential_indices)\n",
        "\n",
        "# Dividir los datos en conjunto de entrenamiento y prueba\n",
        "X_train, X_test, y_train, y_test = train_test_split(df_1_temp[features], df_1_temp[target], test_size=0.2, random_state=42)\n",
        "\n",
        "# Estandarizar las variables predictoras\n",
        "scaler = StandardScaler()\n",
        "X_train_scaled = scaler.fit_transform(X_train)\n",
        "X_test_scaled = scaler.transform(X_test)\n",
        "\n",
        "# Inicializar el modelo de regresión logística\n",
        "modelo_logistico = LogisticRegression()\n",
        "\n",
        "# Entrenar el modelo con los datos de entrenamiento\n",
        "modelo_logistico.fit(X_train_scaled, y_train)\n",
        "\n",
        "# Realizar predicciones en el conjunto de prueba\n",
        "y_pred = modelo_logistico.predict(X_test_scaled)\n",
        "\n",
        "# Calcular el accuracy\n",
        "accuracy = accuracy_score(y_test, y_pred)\n",
        "print(f'Accuracy sin observaciones influyentes: {accuracy:.2f}')\n",
        "\n",
        "# Obtener los coeficientes y el intercepto\n",
        "coeficientes = modelo_logistico.coef_[0]\n",
        "intercepto = modelo_logistico.intercept_[0]\n",
        "\n",
        "# Crear la ecuación lineal\n",
        "ecuacion_lineal = f'logit(p) = {intercepto:.4f}'\n",
        "\n",
        "for i, feature in enumerate(features):\n",
        "    ecuacion_lineal += f' + {coeficientes[i]:.4f} * {feature}'\n",
        "\n",
        "# Mostrar la ecuación lineal\n",
        "print(f'Ecuación Lineal del Modelo de Regresión Logística:')\n",
        "print(ecuacion_lineal)\n"
      ],
      "metadata": {
        "colab": {
          "base_uri": "https://localhost:8080/"
        },
        "id": "MEZ-JHXQZ5Nj",
        "outputId": "045191b4-c150-449a-e7df-17305f1191d4"
      },
      "execution_count": 36,
      "outputs": [
        {
          "output_type": "stream",
          "name": "stdout",
          "text": [
            "Accuracy sin observaciones influyentes: 0.82\n",
            "Ecuación Lineal del Modelo de Regresión Logística:\n",
            "logit(p) = 0.0931 + 0.0351 * PC1 + 0.1572 * PC2 + -1.1957 * PM2.5 + -0.6725 * WSR_y\n"
          ]
        }
      ]
    },
    {
      "cell_type": "code",
      "source": [
        "import numpy as np\n",
        "from sklearn.metrics import accuracy_score\n",
        "\n",
        "def encontrar_mejor_umbral_accuracy(modelo, X, y):\n",
        "    # Obtener probabilidades estimadas\n",
        "    probabilidades = modelo.predict_proba(X)[:, 1]\n",
        "\n",
        "    # Crear una lista de umbrales\n",
        "    umbrales = np.arange(0, 1.01, 0.01)\n",
        "\n",
        "    # Inicializar variables para almacenar el mejor umbral y el mejor accuracy\n",
        "    mejor_umbral = 0\n",
        "    mejor_accuracy = 0\n",
        "\n",
        "    # Iterar sobre los umbrales y encontrar el mejor\n",
        "    for umbral in umbrales:\n",
        "        y_pred = (probabilidades > umbral).astype(int)\n",
        "        accuracy = accuracy_score(y, y_pred)\n",
        "\n",
        "        # Actualizar el mejor umbral si se encuentra un valor mejor\n",
        "        if accuracy > mejor_accuracy:\n",
        "            mejor_accuracy = accuracy\n",
        "            mejor_umbral = umbral\n",
        "\n",
        "    return mejor_umbral, mejor_accuracy\n",
        "\n",
        "# Uso en tu caso específico\n",
        "mejor_umbral_accuracy, mejor_accuracy = encontrar_mejor_umbral_accuracy(modelo_logistico, X_test_scaled, y_test)\n",
        "\n",
        "print(f'Mejor Umbral para Accuracy: {mejor_umbral_accuracy:.4f}')\n",
        "print(f'Mejor Accuracy: {mejor_accuracy:.4f}')\n",
        "\n",
        "\n",
        "# Obtener las probabilidades estimadas\n",
        "probas = modelo_logistico.predict_proba(X_test_scaled)\n",
        "\n",
        "# Definir un umbral personalizado (por ejemplo, 0.3)\n",
        "umbral_personalizado = mejor_umbral_accuracy\n",
        "\n",
        "# Aplicar el umbral y obtener las predicciones\n",
        "y_pred_personalizado = (probas[:, 1] > umbral_personalizado).astype(int)\n",
        "\n",
        "from sklearn.metrics import confusion_matrix, accuracy_score\n",
        "\n",
        "# Calcular la matriz de confusión\n",
        "conf_matrix_personalizado = confusion_matrix(y_test, y_pred_personalizado)\n",
        "print(\"Matriz de Confusión Personalizada:\")\n",
        "print(\"                Predicción Mala   Predicción Buena\")\n",
        "print(f\"Real Mala      :      {conf_matrix_personalizado[0, 0]:>4}             {conf_matrix_personalizado[0, 1]:>4}\")\n",
        "print(f\"Real Buena     :      {conf_matrix_personalizado[1, 0]:>4}             {conf_matrix_personalizado[1, 1]:>4}\")\n",
        "\n",
        "# Calcular el accuracy\n",
        "accuracy_personalizado = accuracy_score(y_test, y_pred_personalizado)\n",
        "print(f'Accuracy Personalizado: {accuracy_personalizado:.2f}')\n",
        "\n",
        "# Calcular la sensibilidad\n",
        "sensibilidad_personalizado = conf_matrix_personalizado[0, 0] / (conf_matrix_personalizado[0, 0] + conf_matrix_personalizado[0, 1])\n",
        "print(f'Sensibilidad Personalizada: {sensibilidad_personalizado:.2f}')\n",
        "\n",
        "# Calcular la especificidad\n",
        "especificidad_personalizado = conf_matrix_personalizado[1, 1] / (conf_matrix_personalizado[1, 1] + conf_matrix_personalizado[1, 0])\n",
        "print(f'Especificidad Personalizada: {especificidad_personalizado:.2f}')"
      ],
      "metadata": {
        "colab": {
          "base_uri": "https://localhost:8080/"
        },
        "id": "_EPhYb3xFygK",
        "outputId": "52b2bc94-7a0d-488d-89be-4f3af9d11f6f"
      },
      "execution_count": 37,
      "outputs": [
        {
          "output_type": "stream",
          "name": "stdout",
          "text": [
            "Mejor Umbral para Accuracy: 0.3000\n",
            "Mejor Accuracy: 0.8182\n",
            "Matriz de Confusión Personalizada:\n",
            "                Predicción Mala   Predicción Buena\n",
            "Real Mala      :         5                3\n",
            "Real Buena     :         3               22\n",
            "Accuracy Personalizado: 0.82\n",
            "Sensibilidad Personalizada: 0.62\n",
            "Especificidad Personalizada: 0.88\n"
          ]
        }
      ]
    },
    {
      "cell_type": "code",
      "source": [],
      "metadata": {
        "id": "b_mXa4LKZ5QQ"
      },
      "execution_count": 37,
      "outputs": []
    },
    {
      "cell_type": "code",
      "source": [
        "proporcion_pm10 = df_1['Clase_PM10'].value_counts(normalize=True)\n",
        "proporcion_pm25 = df_1['Clase_PM2.5'].value_counts(normalize=True)\n",
        "\n",
        "print(\"Proporción de Clase_PM10:\")\n",
        "print(proporcion_pm10)\n",
        "\n",
        "print(\"\\nProporción de Clase_PM2.5:\")\n",
        "print(proporcion_pm25)\n"
      ],
      "metadata": {
        "colab": {
          "base_uri": "https://localhost:8080/"
        },
        "id": "Iru_bEJVZ5S_",
        "outputId": "b23c98b2-451f-4554-97be-cdb2d3c7bb11"
      },
      "execution_count": 38,
      "outputs": [
        {
          "output_type": "stream",
          "name": "stdout",
          "text": [
            "Proporción de Clase_PM10:\n",
            "0    0.62069\n",
            "1    0.37931\n",
            "Name: Clase_PM10, dtype: float64\n",
            "\n",
            "Proporción de Clase_PM2.5:\n",
            "1    0.586207\n",
            "0    0.413793\n",
            "Name: Clase_PM2.5, dtype: float64\n"
          ]
        }
      ]
    },
    {
      "cell_type": "code",
      "source": [],
      "metadata": {
        "id": "Q2OFfzOdZ5Vn"
      },
      "execution_count": 38,
      "outputs": []
    },
    {
      "cell_type": "code",
      "source": [],
      "metadata": {
        "id": "yC3siRSHZ5YK"
      },
      "execution_count": 38,
      "outputs": []
    },
    {
      "cell_type": "code",
      "source": [],
      "metadata": {
        "id": "KSuuCwAYZ5et"
      },
      "execution_count": 38,
      "outputs": []
    },
    {
      "cell_type": "code",
      "source": [],
      "metadata": {
        "id": "TFC0_mQNZ5hG"
      },
      "execution_count": 38,
      "outputs": []
    },
    {
      "cell_type": "code",
      "source": [],
      "metadata": {
        "id": "3JPIUFjJZ5js"
      },
      "execution_count": 38,
      "outputs": []
    },
    {
      "cell_type": "code",
      "source": [],
      "metadata": {
        "id": "reJTP_NGZ5mT"
      },
      "execution_count": 38,
      "outputs": []
    },
    {
      "cell_type": "code",
      "source": [],
      "metadata": {
        "id": "hgueFoU4Z5pF"
      },
      "execution_count": 38,
      "outputs": []
    }
  ]
}